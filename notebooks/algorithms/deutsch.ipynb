{
 "cells": [
  {
   "cell_type": "markdown",
   "metadata": {},
   "source": [
    "# Simple quantum algorithms\n",
    "\n",
    "## Phase kickback\n",
    "\n",
    "In this page, we'll cover a behaviour of controlled quantum gates known as \"phase kickback\". While simple, this effect is uniquely quantum, and in this page we'll explore ways it can give us a small edge over classical computers for some toy problems.\n",
    "\n",
    "In later pages, we'll see how we can extend concepts from these toy algorithms to more serious quantum algorithms, including Shor's factoring algorithm, and Grover's search algorithm."
   ]
  },
  {
   "cell_type": "markdown",
   "metadata": {
    "formulas": {
     "_control-qubit-post": {
      "meaning": "This is the state of the control qubit after the controlled gate."
     },
     "_control-qubit-pre": {
      "meaning": "This is the control qubit. This qubit is in a superposition of |0〉 and |1〉."
     },
     "_eig-val-A": {
      "meaning": "This is a complex number, which we call the <i>eigenvalue</i>."
     },
     "_eig-val-U": {
      "meaning": "This is a complex number with magnitude 1.<br><a href='https://en.wikipedia.org/wiki/Euler%27s_formula'>Read more</a>."
     },
     "_eig-vec-A": {
      "meaning": "This is a vector. In this case, this vector is an <i>eigenvector</i> of the matrix 'A'."
     },
     "_eig-vec-U": {
      "meaning": "This is a state vector, and in this case, an eigen<i>state</i> of the matrix 'U', with eigenvalue exp(2πiθ)."
     },
     "_eig-vec-X": {
      "meaning": "This is a state vector, and in this case, an eigen<i>state</i> of the X-gate, with eigenvalue -1."
     },
     "_matrix-A": {
      "meaning": "This letter represents a matrix."
     },
     "_matrix-CU": {
      "meaning": "This is the operation U, controlled by another qubit."
     },
     "_matrix-CX": {
      "meaning": "This the controlled-X (CNOT) gate."
     },
     "_matrix-U": {
      "meaning": "This letter represents a unitary matrix (e.g. a quantum gate)."
     }
    }
   },
   "source": [
    "### Eigenvectors\n",
    "\n",
    "You should already be familiar with eigenvectors and eigenvalues, but if not, you can read a nice introduction [here](https://www.khanacademy.org/math/linear-algebra/alternate-bases/eigen-everything/v/linear-algebra-introduction-to-eigenvalues-and-eigenvectors). If you _are_ familiar, then you should recognise the eigenvector equation:\n",
    "\n",
    "$$ \\class{_matrix-A}{A}\\class{_eig-vec-A}{|x\\rangle} = \\class{_eig-val-A}{\\lambda}\\class{_eig-vec-A}{|x\\rangle} $$\n",
    "\n",
    "This is even simpler in quantum computing. Since all our state vectors have a magnitude of 1, our eigenvalues also need to have a magnitude of 1, i.e. $\\lambda = e^{2\\pi i \\theta}$. So for a quantum gate $U$ and its eigenstate $|x\\rangle$, we have:\n",
    "\n",
    "$$ \\class{_matrix-U}{U}\\class{_eig-vec-U}{|x\\rangle} = \\class{_eig-val-U}{e^{2\\pi i \\theta}}\\class{_eig-vec-U}{|x\\rangle} $$\n",
    "\n",
    "To sum up: If a gate rotates (and only rotates) all the amplitudes of a state vector by the same amount, then that state is an _eigenstate_ of that gate."
   ]
  },
  {
   "cell_type": "markdown",
   "metadata": {},
   "source": [
    "### Controlled gates & eigenstates\n",
    "\n",
    "Once you're comfortable with the concept of eigenstates, we can start to think about what happens when we control these circuits on the state of another qubit. For example, we know the Z-gate acting on the state $|1\\rangle$ introduces a negative global phase ($\\theta = 0.5$).\n",
    "\n",
    "$$ Z|1\\rangle = -|1\\rangle $$\n",
    "\n",
    "Let's work out what happens when we control this operation.\n",
    "\n",
    "<!-- ::: q-block.tabs -->\n",
    "\n",
    "### The controlled-Z gate\n",
    "\n",
    "<!-- ::: tab -->\n",
    "\n",
    "### |10〉\n",
    "\n",
    "<!-- ::: column(width=200) -->\n",
    "\n",
    "If the control qubit is $|0\\rangle$, then the behaviour is trivial; nothing happens.\n",
    "\n",
    "<!-- ::: column(width=400) -->\n",
    "\n",
    "![circuit diagram showing a two-qubit register in the state 01, acted on by a CZ-gate. The state is unchanged](images/kickback/tabs/0/0.svg)\n",
    "\n",
    "<!-- ::: -->\n",
    "\n",
    "<!-- ::: tab -->\n",
    "\n",
    "### |11〉\n",
    "\n",
    "<!-- ::: column(width=200) -->\n",
    "\n",
    "If the control qubit is $|1\\rangle$, the gate introduces a global phase (note the minus sign in the image to the right), but the qubit's states are unchanged.\n",
    "\n",
    "<!-- ::: column(width=400) -->\n",
    "\n",
    "![circuit diagram showing a two-qubit register in the state 01, acted on by a CZ-gate. The state is unchanged](images/kickback/tabs/0/1.svg)\n",
    "\n",
    "<!-- ::: -->\n",
    "\n",
    "<!-- ::: tab -->\n",
    "\n",
    "### |1+〉\n",
    "\n",
    "<!-- ::: column(width=200) -->\n",
    "\n",
    "The controlled-Z gate does nothing when the control is $|0\\rangle$, and introduces a negative phase when the control is $|1\\rangle$. When the control qubit is in superposition, the gate changes the _relative_ phase between the $|0\\rangle$ and $|1\\rangle$ states of the control qubit.\n",
    "\n",
    "<!-- ::: column(width=400) -->\n",
    "\n",
    "![circuit diagram showing a two-qubit register in the state 01, acted on by a CZ-gate. The state is unchanged](images/kickback/tabs/0/2.svg)\n",
    "\n",
    "<!-- ::: -->\n",
    "\n",
    "<!-- ::: -->\n",
    "\n",
    "<!-- ::: -->\n",
    "\n",
    "When the control is $|{+}\\rangle$, and the target is $|1\\rangle$, the controlled-Z gate changes the state of the _control_ qubit, but leaves the target qubit unchanged. This effect is called \"phase kickback\", since the eigenvalue makes its way back into the state of the control qubit."
   ]
  },
  {
   "cell_type": "markdown",
   "metadata": {},
   "source": [
    "More generally, If we have a quantum gate $U$, and it's eigenstate $|x\\rangle$, then $U$ acting on $|x\\rangle$ will add a global phase $\\theta$ as we saw in the eigenvector equation (shown again below).\n",
    "\n",
    "$$ \\class{_matrix-U}{U}\\class{_eig-vec-U}{|x\\rangle} = \\class{_eig-val-U}{e^{2\\pi i \\theta}}\\class{_eig-vec-U}{|x\\rangle} $$\n",
    "\n",
    "If we control the operation $U|x\\rangle$ by another qubit in a superposition of $|0\\rangle$ and $|1\\rangle$, then this will have the effect of rotating the control qubit around the Z-axis by angle $\\theta$. I.e.:\n",
    "\n",
    "$$ \\class{_matrix-CU}{CU}\\class{_eig-vec-U}{|x\\rangle}\\class{_control-qubit-pre}{(\\alpha|0\\rangle + \\beta|1\\rangle)} = \\class{_eig-vec-U}{|x\\rangle}\\class{_control-qubit-post}{(\\alpha|0\\rangle + \\beta e^{2\\pi i \\theta}|1\\rangle)} $$\n",
    "\n",
    "![](images/kickback/general-kickback.svg)\n",
    "\n",
    "In the example above, we see that the 'control' of the controlled-Z gate is actually doing a Z-rotation - something that should have only been observing the qubit has actually changed it."
   ]
  },
  {
   "cell_type": "markdown",
   "metadata": {},
   "source": [
    "### The CNOT Gate\n",
    "\n",
    "Let's look at a different specific case of phase kickback. Since the $|{-}\\rangle$ state is an eigenstate of the X-gate (with eigenvalue $-1$), we get:\n",
    "\n",
    "$$ \\class{_matrix-CX}{CX}\\class{_eig-vec-X}{|{-}\\rangle}\\class{_control-qubit-pre}{(\\alpha|0\\rangle + \\beta|1\\rangle)} = \\class{_eig-vec-X}{|{-}\\rangle}\\class{_control-qubit-post}{(\\alpha|0\\rangle - \\beta |1\\rangle)} $$\n",
    "\n",
    "![](images/kickback/cnot-kickback.svg)\n",
    "\n",
    "Again, in this case the phase change $\\theta = 0.5$, so our control qubit is flipped around the Z-axis.\n",
    "\n",
    "When we remember that the H-gate does the transformation $|0\\rangle \\rightarrow |{+}\\rangle$ and $|1\\rangle \\rightarrow |{-}\\rangle$ (and vice versa), we get the following identity:\n",
    "\n",
    "![](images/kickback/cnot-identity.svg)"
   ]
  },
  {
   "cell_type": "markdown",
   "metadata": {},
   "source": [
    "## Deutsch's problem\n",
    "\n",
    "We've just seen that conditioning an action on the state of a qubit can actually change the state of the controlling qubit. This is a uniquely quantum effect, i.e. something we don't see happen with classical bits.\n",
    "\n",
    "In quantum computing, we want to create algorithms that classical computers _can't_ carry out, so a good place to start is to try and re-frame this effect as a problem to be solved. This way, we can prove quantum computers are at least slightly better at something than classical computers.\n",
    "\n",
    "Deutsch's problem does exactly this. Deutsch's is a 'black box' problem: An artificial problem where we're allowed to apply a function to our bits, but we're not allowed to look at how the function works. The challenge is to discover some properties of the box by trying different inputs and observing the outputs.\n",
    "\n",
    "Deutsch's problem is as follows: We're given a classical, reversible function, (which we'll call $f$), that acts on two bits, $a$ & $b$. The function will leave bit $a$ alone, but may, or may not flip bit $ b $. Deutsch's problem asks us to work out whether $f$ behaves differently depending on the value of $a$ (we'll call this \"balanced\" behaviour), or if it ignores $a$ and always does the same thing to $b$ (\"constant\" behaviour). The challenge is to discover this while applying $f$ as few times as possible.\n",
    "\n",
    "![Image of deutsch's problem as a quantum circuit. The circuit has two bits, the top and bottom wires labelled 'a' and 'b' respectively. Both bits are then acted on by an opaque, two-bit gate labelled 'f'. After 'f', the top wire is still labelled 'f', but the bottom wire is now labelled 'f(a, b)'.](images/kickback/deutsch-problem.svg)\n",
    "\n",
    "The best classical algorithm for this problem applies $f$ twice with different values of $a$, then looks to see if $f$ behaved differently."
   ]
  },
  {
   "cell_type": "markdown",
   "metadata": {},
   "source": [
    "## Deutsch's algorithm\n",
    "\n",
    "As you may have guessed, we can use phase kickback to create a quantum algorithm that does even better than the classical algorithm. If we put qubit $ a $ in the $|{+}\\rangle$ state, and qubit $ b $ in the $|{-}\\rangle$ state, then any flip conditioned on $ a $ will kick back a negative relative phase, flipping qubit $ a $ from $|{+}\\rangle$ to $|{-}\\rangle$. We can then apply a H-gate to $ a $ to see whether kickback occurred or not. This means we only need to apply $f$ once to get our answer.\n",
    "\n",
    "![Image of deutsch's algorithm as a quantum circuit.](images/kickback/deutsch-algorithm.svg)\n",
    "\n",
    "<!-- ::: q-block.reminder -->\n",
    "\n",
    "### More info\n",
    "\n",
    "<details>\n",
    "    <summary>Inside the black box (click to expand)</summary>\n",
    "If this still seems like magic, it can help to think about all the possible Deutsch functions and the quantum circuits that implement them. There are four possible Deutsch functions: two constant, and two balanced.\n",
    "\n",
    "If constant, the function can either do nothing, or flip qubit $ b $. If balanced, the function can either flip $ b $ only when $ a $ is $|1\\rangle$, or flip $ b $ only when $ a $ is $|0\\rangle$. You can see all four scenarios in the image below.\n",
    "\n",
    "<img src=\"images/kickback/deutsch-oracles.svg\">\n",
    "\n",
    "With both constant functions, the topmost qubit will remain unchanged (since we're not doing anything to it), and in the balanced functions, the kickback effect flips the topmost qubit from $|{+}\\rangle$ to $|{-}\\rangle$.\n",
    "</details>\n",
    "\n",
    "<!-- ::: -->\n",
    "\n",
    "This isn't the most impressive example of quantum speedup; it's very specific, and we don't find black box problems in the wild. Instead, Deutsch's problem gives us an encouraging result, and some interesting effects to explore. In the rest of this course, we'll extend this simple experiment to solve even more impressive problems, including factoring."
   ]
  },
  {
   "cell_type": "markdown",
   "metadata": {},
   "source": [
    "\n",
    "\n",
    "<!-- ::: q-block.exercise -->\n",
    "\n",
    "### Exercise\n",
    "\n",
    "Make a function, `deutsch()` that takes a Deutsch function as a `QuantumCircuit` and uses the Deutsch algorithm to solve it on a quantum simulator. Your function should return `True` if the Deutsch function is balanced, and `False` if it's constant.\n",
    "\n",
    "You can use the provided function `deutsch_problem()` to create a `QuantumCircuit` to use as input to your `deutsch()` function.\n",
    "\n",
    "<!-- ::: -->"
   ]
  },
  {
   "cell_type": "code",
   "execution_count": null,
   "metadata": {},
   "outputs": [],
   "source": [
    "from qiskit import QuantumCircuit\n",
    "import numpy as np\n",
    "\n",
    "def deutsch_problem(seed=None):\n",
    "    \"\"\"Returns a circuit that carries out the function\n",
    "    from Deutsch's problem.\n",
    "    Args:\n",
    "        seed (int): If set, then returned circuit will\n",
    "            always be the same for the same seed.\n",
    "    Returns: QuantumCircuit\n",
    "    \"\"\"\n",
    "    np.random.seed(seed)\n",
    "    problem = QuantumCircuit(2)\n",
    "    if np.random.randint(2):\n",
    "        print(\"Function is balanced.\")\n",
    "        problem.cx(0, 1)\n",
    "    else:\n",
    "        print(\"Function is constant.\")\n",
    "    if np.random.randint(2):\n",
    "        problem.x(1)\n",
    "    return problem"
   ]
  },
  {
   "cell_type": "code",
   "execution_count": null,
   "metadata": {},
   "outputs": [],
   "source": [
    "def deutsch(function):\n",
    "    \"\"\"Implements Deutsch's algorithm.\n",
    "\n",
    "    Args:\n",
    "        function (QuantumCircuit): Deutsch function to solve.\n",
    "            Must be a 2-qubit circuit, and either balanced,\n",
    "            or constant.\n",
    "    Returns:\n",
    "        bool: True if the circuit is balanced, otherwise False.\n",
    "    \"\"\"\n",
    "\n",
    "    # your code here"
   ]
  },
  {
   "cell_type": "markdown",
   "metadata": {
    "gloss": {
     "bitwise": {
      "text": "A bitwise operation acts on the level of individual bits.",
      "title": "Bitwise"
     }
    }
   },
   "source": [
    "## Extending Deutsch's problem\n",
    "\n",
    "Here, we'll explore two different ways of extending Deutsch's problem to be slightly more difficult for classical computers. Both these extensions generalize the controlling conditions to work on $n$ bits instead of one, and as such make the task of checking behaviour on different inputs slightly harder.\n",
    "\n",
    "### The Bernstein Vazirani problem\n",
    "\n",
    "In this problem we're again asked to discover some behaviour of a black-box, but this time the box takes a string of $n$ input bits (we'll call this string $\\mathbf{x}$), and outputs $1$ bit. In simple terms: For each input bit $x_i \\in \\mathbf{x}$, the box will either:\n",
    "\n",
    "- a) Flip the output bit if $x_i = 1$, or\n",
    "- b) do nothing\n",
    "\n",
    "Our task is to work out which input bits trigger the flip.\n",
    "\n",
    "Equivalently, but more formally, we can say the black-box performs the function:\n",
    "\n",
    "$$ f(\\mathbf{x}) = \\mathbf{s} \\cdot \\mathbf{x} \\pmod 2 $$\n",
    "\n",
    "where the dot ($\\cdot$) represents the [bitwise](gloss:bitwise) product. This box takes $n$ controlling bits (we'll call this the input register), and writes the output to a single target bit. Our task is to work out $\\mathbf{s}$.\n",
    "\n",
    "<img src=\"images/kickback/bv-problem.svg\">\n",
    "\n",
    "The code cell below implements an instance of the Bernstein-Vazirani function in Python. Can you write some code that works out `s`, only by calling the function? How many times do you need to call it?"
   ]
  },
  {
   "cell_type": "code",
   "execution_count": 64,
   "metadata": {},
   "outputs": [
    {
     "data": {
      "text/plain": [
       "0"
      ]
     },
     "execution_count": 64,
     "metadata": {},
     "output_type": "execute_result"
    }
   ],
   "source": [
    "def bv_function(x):\n",
    "    \"\"\"Implements the Bernstein-Vazirani function (x.s mod 2).\n",
    "    Args:\n",
    "       x (str): Input string, must only contain 1s and 0s\n",
    "    Returns:\n",
    "       int: Result of x.s mod 2; either 0 or 1\n",
    "    \"\"\"\n",
    "    s = '0011101'  # challenge is to find this string\n",
    "    if len(s) != len(x):  # quick sanity test\n",
    "        raise ValueError(f'Input must have {len(s)} bits')\n",
    "    output = 0  # now do bitwise product of 'x' and 's'\n",
    "    for i in range(len(x)):\n",
    "        output += int(x[i]) * int(s[i])\n",
    "    return output % 2  # output product mod 2\n",
    "\n",
    "# Try changing the input to the function call below\n",
    "bv_function('0000000')"
   ]
  },
  {
   "cell_type": "markdown",
   "metadata": {},
   "source": [
    "<!-- vale QiskitTextbook.Spelling = NO -->\n",
    "\n",
    "\n",
    "<!-- ::: q-block.reminder -->\n",
    "\n",
    "### Classical solution\n",
    "\n",
    "<details>\n",
    "    <summary>Click to reveal the best classical algorithm for the Bernstein-Vazirani problem.</summary>\n",
    "    We can isolate each bit of $\\mathbf{s}$ by passing an input string with exactly one `1` in it (and all other bits set to `0`).\n",
    "    The best classical algorithm is to try out each of these $n$ input strings, and see what happens to the output. The function below takes a Bernstein-Vazirani function (as defined above) and outputs $\\mathbf{s}$.\n",
    "    \n",
    "    ```{python}\n",
    "    def solve_bv_function(func, n=7):\n",
    "        # takes a Bernstein-Vazirani function\n",
    "        # and the length of `s`. Outputs `s`.\n",
    "        s = ''\n",
    "        for i in range(n):\n",
    "            x = '0'*i + '1' + '0'*(n-i-1)\n",
    "            out = func(x)\n",
    "            s += str(out)\n",
    "            print(f'f({x}) = {out}')\n",
    "        return s\n",
    "    ```\n",
    "</details>\n",
    "\n",
    "<!-- ::: -->\n",
    "\n",
    "\n",
    "<!-- vale QiskitTextbook.Spelling = YES -->\n",
    "\n",
    "### Quantum solution\n",
    "\n",
    "The simple way of phrasing the Bernstein-Vazirani problem is: \"Some input bits affect the output bit, others do not. Which bits are which?\". When put like this, we can see the Bernstein-Vazirani problem is essentially $n$ Deutsch problems at once (and if $n = 1$, it _is_ Deutsch's problem). As such, the best quantum algorithm is almost identical to Deutsch's algorithm:\n",
    "1. Set the qubit that stores the output to $|{-}\\rangle$, and set all the input qubits to $|{+}\\rangle$. \n",
    "2. Apply the function\n",
    "3. Apply Hadamard gates to the input register again\n",
    "\n",
    "Measuring the input register after this process will tell us $\\mathbf{s}$.\n",
    "\n",
    "<img src=\"images/kickback/bv-algorithm.svg\">\n",
    "\n",
    "Any qubits that flip the output will have a negative phase kicked back to them, and so will be $|1\\rangle$ when we come to measure them. Any qubits that have no effect on the output will measure as $|0\\rangle$."
   ]
  },
  {
   "cell_type": "markdown",
   "metadata": {},
   "source": [
    "### The Deutsch-Jozsa problem\n",
    "\n",
    "In this extension of Deutsch's problem, the black-box cannot necessarily be broken into bitwise operations. Instead, we're guaranteed the box will either:\n",
    "\n",
    "- a) Output the same value, regardless of the input state (we'll call this behaviour _constant_), or\n",
    "- b) output `0` on exactly half the input states, and `1` for the rest (we'll call this _balanced_)\n",
    "\n",
    "Once again, our job is to work out if the box is constant or balanced. The code cell below implements the Deutsch-Jozsa function in Python."
   ]
  },
  {
   "cell_type": "code",
   "execution_count": 92,
   "metadata": {},
   "outputs": [
    {
     "data": {
      "text/plain": [
       "1"
      ]
     },
     "execution_count": 92,
     "metadata": {},
     "output_type": "execute_result"
    }
   ],
   "source": [
    "def dj_function(x, seed=1):\n",
    "    \"\"\"Implements a Deutsch-Jozsa function.\n",
    "    Args:\n",
    "       x (str): Input string, must only contain 1s and 0s\n",
    "    Returns:\n",
    "       int: Result of box (either 0 or 1)\n",
    "    \"\"\"\n",
    "    import random\n",
    "    random.seed(seed)  # fix results\n",
    "    if random.randint(0, 1) == 1:\n",
    "        # function is constant\n",
    "        return random.randint(0, 1)\n",
    "    \n",
    "    # function is balanced\n",
    "    n = 2**len(x)\n",
    "    possible_inputs = [f'{s:07b}' for s in range(n)]\n",
    "    flip_strings = random.sample(possible_inputs, n//2)\n",
    "    if x in flip_strings:\n",
    "        return 1\n",
    "    else:\n",
    "        return 0\n",
    "\n",
    "# Try changing the input to the function call below\n",
    "dj_function('0000000')"
   ]
  },
  {
   "cell_type": "markdown",
   "metadata": {},
   "source": [
    "### Quantum solution\n",
    "\n",
    "Again, we're asked to work out whether an operation depends on our input bits or not, and again the solution involves a load of Hadamard gates.\n",
    "\n",
    "Earlier, we viewed the Bernstein-Vazirani problem as $n$ simultaneous Deutsch problems. Here, we can view the Deutsch-Jozsa problem as Deutsch's problem acting on an entire register instead of a single qubit.\n",
    "\n",
    "We can sort each possible input state into one of two groups:\n",
    "- States that flip the output qubit\n",
    "- States that do _not_ flip the output qubit\n",
    "\n",
    "So any state of our quantum register is of the form:\n",
    "\n",
    "$$|\\psi\\rangle =  \\alpha|\\text{flip}\\rangle + \\beta|\\text{noflip}\\rangle $$\n",
    "\n",
    "where $|\\text{flip}\\rangle$ is any state (or superposition of states) that flips the output bit, and $|\\text{noflip}\\rangle$ is any quantum state that leaves the output bit unchanged. Hopefully you can already see how the solution is going to work.\n",
    "\n",
    "$$\n",
    "\\begin{aligned}\n",
    "|\\psi\\rangle|{-}\\rangle &=  \\tfrac{1}{\\sqrt{2}}|\\text{flip}\\rangle|{-}\\rangle + \\tfrac{1}{\\sqrt{2}}|\\text{noflip}\\rangle|{-}\\rangle \\\\\n",
    "U_f|\\psi\\rangle|{-}\\rangle &=  \\tfrac{1}{\\sqrt{2}}|\\text{flip}\\rangle|{-}\\rangle - \\tfrac{1}{\\sqrt{2}}|\\text{noflip}\\rangle|{-}\\rangle\n",
    "\\end{aligned}\n",
    "$$"
   ]
  }
 ],
 "metadata": {
  "kernelspec": {
   "display_name": "Python 3",
   "language": "python",
   "name": "python3"
  },
  "language_info": {
   "codemirror_mode": {
    "name": "ipython",
    "version": 3
   },
   "file_extension": ".py",
   "mimetype": "text/x-python",
   "name": "python",
   "nbconvert_exporter": "python",
   "pygments_lexer": "ipython3",
   "version": "3.9"
  }
 },
 "nbformat": 4,
 "nbformat_minor": 4
}
