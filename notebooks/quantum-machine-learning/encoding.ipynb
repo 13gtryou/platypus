{
 "cells": [
  {
   "cell_type": "markdown",
   "metadata": {
    "gloss": {
     "computational-basis-state": {
      "text": "Also known as Z-basis states, these are the states we measure when we measure in the Z (or 'computational') basis. These are the states with labels like |00〉 and |00110100〉. IBM systems always measure in the Z-basis.",
      "title": "computational basis state"
     },
     "features": {
      "text": "A feature is a property of the things we're trying to learn about that we can assign a number to. If we were learning something about cats, the features might be \"height\" or \"age\" or \"propensity to consume treats\".",
      "title": "features"
     },
     "unitary": {
      "text": "A unitary operation is a reversible operation that preserves the norm (i.e. makes sure our probabilities always sum to 1). <a href='https://en.wikipedia.org/wiki/Unitary_matrix'>Read more</a>.",
      "title": "unitary"
     }
    }
   },
   "source": [
    "# Data encoding\n",
    "\n",
    "In this page, we will introduce the problem of data encoding for quantum machine learning, then describe and implement various data encoding methods. "
   ]
  },
  {
   "cell_type": "markdown",
   "metadata": {},
   "source": [
    "## Introduction\n",
    "\n",
    "Data representation is crucial for the success of machine learning models. For classical machine learning, the problem is how to represent the data numerically, so that it can be best processed by a classical machine learning algorithm. \n",
    "\n",
    "For quantum machine learning, this question is similar, but more fundamental: how to represent and efficiently input the data into a quantum system, so that it can be processed by a quantum machine learning algorithm. This is usually referred to as data *encoding*, but is also called data *embedding* or *loading*.\n",
    "\n",
    "This process is a critical part of quantum machine learning algorithms and directly affects their computational power. "
   ]
  },
  {
   "cell_type": "markdown",
   "metadata": {
    "formulas": {
     "_ket-dataset": {
      "meaning": "This is a quantum statevector that represents our dataset, 𝒳.",
      "say": "Ket script X"
     },
     "_ket-x": {
      "meaning": "This vertical bar and angled bracket mean we're referring to a <a href='https://en.wikipedia.org/wiki/Bra%E2%80%93ket_notation'>ket</a> (column vector) with label 'x'.",
      "say": "Ket x"
     },
     "_m": {
      "meaning": "This is the number of entries in our dataset."
     },
     "_sum-m": {
      "meaning": "This notation means we add together |x<sup>m</sup>〉 (the m<sup>th</sup> element of our dataset) for all values of m between 1 and M (i.e., the entire dataset).",
      "say": "Sum of all computational basis states in our dataset (𝒳)"
     },
     "_x-lil-m": {
      "meaning": "This is the m<sup>th</sup> element of the dataset. It is an N-dimensional vector. Here, the 'm' is just used to mean \"any number between 1 and M\"",
      "say": "X little-M"
     },
     "brace": {
      "meaning": "These curly brackets (braces) mean everything inside the brackets forms a <a href='https://en.wikipedia.org/wiki/Set_(mathematics)'>set</a>.",
      "say": "Brace (or \"curly bracket\")",
      "type": "Universal notation"
     },
     "ellipsis": {
      "meaning": "These dots omit things where the pattern can be implied.",
      "say": "Ellipsis",
      "type": "Universal notation"
     },
     "in": {
      "meaning": "This symbol means the things to the left of the symbol are contained in the set to the right of the symbol.",
      "say": "In",
      "type": "Universal notation"
     },
     "script-x": {
      "meaning": "This is a symbol we’ve chosen to represent our dataset.",
      "say": "Script X",
      "type": "Locally defined variable"
     }
    }
   },
   "source": [
    "## Methods\n",
    "\n",
    "Let's consider a classical dataset $\\mathscr{X}$ consisting of $M$ samples, each with $N$ [features](gloss:features): \n",
    "$$\\class{script-x}{\\mathscr{X}} = \\class{brace}{\\{}x^{(1)},\\class{ellipsis}{\\dots},\\cssId{_x-lil-m}{x^{(m)}},\\dots,x^{(M)}\\class{brace}{\\}}$$\n",
    "where $x^{(m)}$ is an $N$ dimensional vector for $m = 1, ..., M$. To represent this dataset in a qubit system, we can use various embedding techniques, some of which are briefly explained and implemented below, as per References [1](#References) and  [2](#References)."
   ]
  },
  {
   "cell_type": "markdown",
   "metadata": {},
   "source": [
    "### Basis encoding\n",
    "\n",
    "Basis encoding associates a classical $N$-bit string with a [computational basis state](gloss:computational-basis-state) of a $N$-qubit system. For example, if $x = 5$, this can be represented as a $4$-bit string as $0101$, and by a $4$-qubit system as the quantum state $|0101\\rangle$. More generally, for an $N$-bit string: $x = (b_1, b_2, ... , b_N)$, the corresponding $N$-qubit state is $\\cssId{ket-x}{| x \\rangle} = | b_1, b_2, ... , b_N \\rangle$ with $b_n \\class{in}{\\in} \\{0,1\\}$ for $n = 1 , \\dots , N$.\n",
    "\n",
    "For the classical dataset $\\mathscr{X}$ described above, to use basis encoding, each datapoint must be a $N$-bit string: $x^{(m)} = (b_1, b_2, ... , b_N)$, which then can be mapped directly to the quantum state $|x^{m}\\rangle = |b_1, b_2, ... , b_N \\rangle$ with $b_n \\in \\{0, 1 \\} $ for $n = 1, ...,  N$ and $m = 1, ..., M$. We can represent the entire dataset as superpositions of computational basis states:\n",
    "\n",
    "$$\\cssId{_ket-dataset}{| \\mathscr{X} \\rangle} = \\frac{1}{\\sqrt{\\cssId{_m}{M}}}\\cssId{_sum-m}{\\sum_{m=1}^{M}|x^{m} \\rangle} $$\n",
    "\n",
    "<!-- ::: q-block -->\n",
    "\n",
    "### Basis encoding\n",
    "\n",
    "    q-statevector-binary-encoding\n",
    "      p Add/remove bit strings to/from our input dataset on the left to see how basis encoding encodes this in the state vector on the right. \n",
    "\n",
    "<!-- ::: -->\n",
    "\n",
    "In Qiskit, once we calculate what state will encode our dataset, we can use the `initialize` function to prepare it. For example, the dataset $\\mathscr{X} = \\{x^{(1)}=101, x^{(2)}=111\\}$ is encoded as the state $|\\mathscr{X}\\rangle= \\frac{1}{\\sqrt{2}}(|101\\rangle+|111\\rangle)$:"
   ]
  },
  {
   "cell_type": "code",
   "execution_count": 1,
   "metadata": {},
   "outputs": [
    {
     "data": {
      "text/html": [
       "<pre style=\"word-wrap: normal;white-space: pre;background: #fff0;line-height: 1.1;font-family: &quot;Courier New&quot;,Courier,monospace\">          ┌───────────────────────┐                      ┌───┐»\n",
       "q_0: ─|0>─┤ multiplex1_reverse_dg ├──────────────────────┤ X ├»\n",
       "          └──────┬─────────┬──────┘┌───┐┌──────────┐┌───┐└─┬─┘»\n",
       "q_1: ─|0>────────┤ Ry(π/4) ├───────┤ X ├┤ Ry(-π/4) ├┤ X ├──■──»\n",
       "                 ├─────────┴┐      └─┬─┘└──────────┘└─┬─┘     »\n",
       "q_2: ─|0>────────┤ R(π,π/2) ├────────■────────────────■───────»\n",
       "                 └──────────┘                                 »\n",
       "«     ┌───────────────────────────────┐┌───┐»\n",
       "«q_0: ┤ multiplex1_reverse_reverse_dg ├┤ X ├»\n",
       "«     └───────────────────────────────┘└─┬─┘»\n",
       "«q_1: ───────────────────────────────────┼──»\n",
       "«                                        │  »\n",
       "«q_2: ───────────────────────────────────■──»\n",
       "«                                           »\n",
       "«     ┌───────────────────────────────────────┐┌───┐»\n",
       "«q_0: ┤ multiplex1_reverse_reverse_reverse_dg ├┤ X ├»\n",
       "«     └───────────────────────────────────────┘└─┬─┘»\n",
       "«q_1: ───────────────────────────────────────────■──»\n",
       "«                                                   »\n",
       "«q_2: ──────────────────────────────────────────────»\n",
       "«                                                   »\n",
       "«     ┌───────────────────────────────┐┌───┐\n",
       "«q_0: ┤ multiplex1_reverse_reverse_dg ├┤ X ├\n",
       "«     └───────────────────────────────┘└─┬─┘\n",
       "«q_1: ───────────────────────────────────┼──\n",
       "«                                        │  \n",
       "«q_2: ───────────────────────────────────■──\n",
       "«                                           </pre>"
      ],
      "text/plain": [
       "          ┌───────────────────────┐                      ┌───┐»\n",
       "q_0: ─|0>─┤ multiplex1_reverse_dg ├──────────────────────┤ X ├»\n",
       "          └──────┬─────────┬──────┘┌───┐┌──────────┐┌───┐└─┬─┘»\n",
       "q_1: ─|0>────────┤ Ry(π/4) ├───────┤ X ├┤ Ry(-π/4) ├┤ X ├──■──»\n",
       "                 ├─────────┴┐      └─┬─┘└──────────┘└─┬─┘     »\n",
       "q_2: ─|0>────────┤ R(π,π/2) ├────────■────────────────■───────»\n",
       "                 └──────────┘                                 »\n",
       "«     ┌───────────────────────────────┐┌───┐»\n",
       "«q_0: ┤ multiplex1_reverse_reverse_dg ├┤ X ├»\n",
       "«     └───────────────────────────────┘└─┬─┘»\n",
       "«q_1: ───────────────────────────────────┼──»\n",
       "«                                        │  »\n",
       "«q_2: ───────────────────────────────────■──»\n",
       "«                                           »\n",
       "«     ┌───────────────────────────────────────┐┌───┐»\n",
       "«q_0: ┤ multiplex1_reverse_reverse_reverse_dg ├┤ X ├»\n",
       "«     └───────────────────────────────────────┘└─┬─┘»\n",
       "«q_1: ───────────────────────────────────────────■──»\n",
       "«                                                   »\n",
       "«q_2: ──────────────────────────────────────────────»\n",
       "«                                                   »\n",
       "«     ┌───────────────────────────────┐┌───┐\n",
       "«q_0: ┤ multiplex1_reverse_reverse_dg ├┤ X ├\n",
       "«     └───────────────────────────────┘└─┬─┘\n",
       "«q_1: ───────────────────────────────────┼──\n",
       "«                                        │  \n",
       "«q_2: ───────────────────────────────────■──\n",
       "«                                           "
      ]
     },
     "execution_count": 1,
     "metadata": {},
     "output_type": "execute_result"
    }
   ],
   "source": [
    "import math\n",
    "from qiskit import QuantumCircuit\n",
    "\n",
    "desired_state = [\n",
    "    0,\n",
    "    0,\n",
    "    0,\n",
    "    0,\n",
    "    0,\n",
    "    1 / math.sqrt(2),\n",
    "    0,\n",
    "    1 / math.sqrt(2)]\n",
    "\n",
    "qc = QuantumCircuit(3)\n",
    "qc.initialize(desired_state, [0,1,2])\n",
    "\n",
    "qc.decompose().decompose().decompose().decompose().decompose().draw()"
   ]
  },
  {
   "cell_type": "markdown",
   "metadata": {},
   "source": [
    "This example illustrates a couple of disadvantages of basis encoding. While it is simple to understand, the state vectors can become quite sparse, and schemes to implement it are usually not efficient. "
   ]
  },
  {
   "cell_type": "markdown",
   "metadata": {
    "formulas": {
     "_a-norm": {
      "meaning": "This is a normalization constant. We can calculate it from the inverse of the Euclidean (l2) norm of the datapoint vector.",
      "say": "A norm"
     }
    }
   },
   "source": [
    "### Amplitude encoding\n",
    "\n",
    "Amplitude encoding encodes data into the amplitudes of a quantum state. It represents a normalised classical $N$-dimensional datapoint, $x$, as the amplitudes of a $n$-qubit quantum state, $|\\psi_x\\rangle$:\n",
    "$$|\\psi_x\\rangle = \\sum_{i=1}^N x_i |i\\rangle$$\n",
    "where $N = 2^n$, $x_i$ is the $i^{th}$ element of $x$ and $|i\\rangle$ is the $i^{th}$ computational basis state. \n",
    "\n",
    "To encode the classical dataset $\\mathscr{X}$ described above, we concatenate all $M$ $N$-dimensional datapoints into one amplitude vector, of length $N \\times M$:\n",
    "$$\\alpha=\\cssId{_a-norm}{A_{\\text{norm}}}(x_{1}^{(1)},...,x_{N}^{(1)},...,x_{1}^{(m)},...,x_{N}^{(m)},...,x_{1}^{(M)},...,x_{N}^{(M)})$$\n",
    "where $A_{\\text{norm}}$ is a normalisation constant, such that $|\\alpha|^2 = 1$. The dataset $\\mathscr{X}$ can now be represented in the computational basis as:\n",
    "$$|\\mathscr{X}\\rangle = \\sum_{i=1}^N \\alpha_i |i\\rangle$$\n",
    "where $\\alpha_i$ are elements of the amplitude vector and $|i\\rangle$ are the computational basis states. The number of amplitudes to be encoded is $N \\times M$.  As a system of $n$ qubits provides $2^n$ amplitudes, amplitude embedding requires $n \\ge \\mathrm{log}_2(NM)$ qubits.\n",
    "\n",
    "<!-- ::: q-block -->\n",
    "\n",
    "### Amplitude encoding\n",
    "\n",
    "    q-statevector-amplitude-encoding\n",
    "      p Change the values of the datapoints on the left, and see how amplitude encoding encodes these as a state vector on the right.\n",
    "\n",
    "<!-- ::: -->\n",
    "\n",
    "As an example, let's encode the dataset $\\mathscr{X}= \\{x^{(1)}=(1.5,0), x^{(2)}=(-2,3)\\}$ using amplitude encoding. Concatenating both data points and normalizing the resulting vector, we get:\n",
    "$$\\alpha = \\frac{1}{\\sqrt{15.25}}(1.5,0,-2,3)$$\n",
    "and the resulting 2-qubit quantum state would be: \n",
    "$$|\\mathscr{X}\\rangle = \\frac{1}{\\sqrt{15.25}}(1.5|00\\rangle-2|10\\rangle+3|11\\rangle)$$\n",
    "\n",
    "In the example above, the total number of elements of the amplitude vector, $N \\times M$, is a power of 2. When $N \\times M$ is not a power of 2, we can simply choose a value for $n$ such that $2^n\\geq MN$ and pad the amplitude vector with uninformative constants.\n",
    "\n",
    "Like in basis encoding, once we calculate what state will encode our dataset, in Qiskit we can use the `initialize` function to prepare it:"
   ]
  },
  {
   "cell_type": "code",
   "execution_count": 2,
   "metadata": {},
   "outputs": [
    {
     "data": {
      "text/html": [
       "<pre style=\"word-wrap: normal;white-space: pre;background: #fff0;line-height: 1.1;font-family: &quot;Courier New&quot;,Courier,monospace\">           ┌─────────────┐            ┌───┐┌──────────────┐┌─────────┐┌───┐»\n",
       "q_0: ─|0>──┤ Ry(0.98279) ├────────────┤ X ├┤ Ry(-0.98279) ├┤ Rz(π/2) ├┤ X ├»\n",
       "          ┌┴─────────────┴┐┌─────────┐└─┬─┘└──────────────┘└─────────┘└─┬─┘»\n",
       "q_1: ─|0>─┤ R(2.3531,π/2) ├┤ U1(π/2) ├──■───────────────────────────────■──»\n",
       "          └───────────────┘└─────────┘                                     »\n",
       "«     ┌──────────┐\n",
       "«q_0: ┤ Rz(-π/2) ├\n",
       "«     └──────────┘\n",
       "«q_1: ────────────\n",
       "«                 </pre>"
      ],
      "text/plain": [
       "           ┌─────────────┐            ┌───┐┌──────────────┐┌─────────┐┌───┐»\n",
       "q_0: ─|0>──┤ Ry(0.98279) ├────────────┤ X ├┤ Ry(-0.98279) ├┤ Rz(π/2) ├┤ X ├»\n",
       "          ┌┴─────────────┴┐┌─────────┐└─┬─┘└──────────────┘└─────────┘└─┬─┘»\n",
       "q_1: ─|0>─┤ R(2.3531,π/2) ├┤ U1(π/2) ├──■───────────────────────────────■──»\n",
       "          └───────────────┘└─────────┘                                     »\n",
       "«     ┌──────────┐\n",
       "«q_0: ┤ Rz(-π/2) ├\n",
       "«     └──────────┘\n",
       "«q_1: ────────────\n",
       "«                 "
      ]
     },
     "execution_count": 2,
     "metadata": {},
     "output_type": "execute_result"
    }
   ],
   "source": [
    "desired_state = [\n",
    "    1 / math.sqrt(15.25) * 1.5,\n",
    "    0,\n",
    "    1 / math.sqrt(15.25) * -2,\n",
    "    1 / math.sqrt(15.25) * 3]\n",
    "\n",
    "qc = QuantumCircuit(2)\n",
    "qc.initialize(desired_state, [0,1])\n",
    "\n",
    "qc.decompose().decompose().decompose().decompose().decompose().draw()"
   ]
  },
  {
   "cell_type": "markdown",
   "metadata": {},
   "source": [
    "The advantage of amplitude encoding is that it only requires $\\mathrm{log}_2(NM)$ qubits to encode. However, subsequent algorithms must operate on the amplitudes of a quantum state, and methods to prepare and measure the quantum states tend not to be efficient. "
   ]
  },
  {
   "cell_type": "markdown",
   "metadata": {
    "formulas": {
     "_big-o-times-n": {
      "meaning": "This represents the tensor product operation over N qubits.",
      "say": "big o-times"
     },
     "_big-o-times-n2": {
      "meaning": "This represents the tensor product operation over N/2 qubits.",
      "say": "big o-times"
     }
    }
   },
   "source": [
    "### Angle encoding\n",
    "\n",
    "Angle encoding encodes $N$ features into the rotation angles of $n$ qubits, where $N \\le n$. For example, the datapoint $x = (x_1,...,x_N)$ can be encoded as:\n",
    "$$\\cssId{_}{|x\\rangle} = \\class{_big-o-times-n}{\\bigotimes^N_{i=1}} \\cos(x_i)|0\\rangle + \\sin(x_i)|1\\rangle$$\n",
    "\n",
    "This is different from the previous two encoding methods, as it only encodes one datapoint at a time, rather than a whole dataset. It does however, only use $N$ qubits and a constant depth quantum circuit, making it amenable to current quantum hardware. \n",
    "\n",
    "We can specify angle encoding as a [unitary](gloss:unitary):\n",
    "$$ S_{x_j} = \\class{_big-o-times-n}{\\bigotimes_{i=1}^N} U(x_j^{(i)}) $$\n",
    "\n",
    "where:\n",
    "\n",
    "$$\n",
    "U(x_j^{(i)}) = \\begin{bmatrix} \\cos(x_j^{(i)}) & -\\sin(x_j^{(i)}) \\\\ \\sin(x_j^{(i)}) & \\cos(x_j^{(i)}) \\\\ \\end{bmatrix}\n",
    "$$\n",
    "\n",
    "Remembering that a single-qubit rotation around the $Y$-axis is: \n",
    "$$RY(\\theta) = \\exp(-i \\frac{\\theta}{2} Y) = \\begin{pmatrix} \\cos{\\frac{\\theta}{2}} & -\\sin{\\frac{\\theta}{2}} \\\\ \\sin{\\frac{\\theta}{2}} & \\cos{\\frac{\\theta}{2}} \\end{pmatrix} $$            \n",
    "            \n",
    "We note that $U(x_j^{(i)}) = RY(2x_j^{(i)})$, and as an example, encode the datapoint $x = (0, \\pi/4, \\pi/2)$ using qiskit:"
   ]
  },
  {
   "cell_type": "code",
   "execution_count": 3,
   "metadata": {},
   "outputs": [
    {
     "data": {
      "text/html": [
       "<pre style=\"word-wrap: normal;white-space: pre;background: #fff0;line-height: 1.1;font-family: &quot;Courier New&quot;,Courier,monospace\">      ┌───────┐ \n",
       "q_0: ─┤ Ry(0) ├─\n",
       "     ┌┴───────┴┐\n",
       "q_1: ┤ Ry(π/2) ├\n",
       "     └┬───────┬┘\n",
       "q_2: ─┤ Ry(π) ├─\n",
       "      └───────┘ </pre>"
      ],
      "text/plain": [
       "      ┌───────┐ \n",
       "q_0: ─┤ Ry(0) ├─\n",
       "     ┌┴───────┴┐\n",
       "q_1: ┤ Ry(π/2) ├\n",
       "     └┬───────┬┘\n",
       "q_2: ─┤ Ry(π) ├─\n",
       "      └───────┘ "
      ]
     },
     "execution_count": 3,
     "metadata": {},
     "output_type": "execute_result"
    }
   ],
   "source": [
    "qc = QuantumCircuit(3)\n",
    "\n",
    "qc.ry(0, 0)\n",
    "qc.ry(2*math.pi/4, 1)\n",
    "qc.ry(2*math.pi/2, 2)\n",
    "qc.draw()"
   ]
  },
  {
   "cell_type": "markdown",
   "metadata": {},
   "source": [
    "Dense angle encoding is a slight generalization of angle encoding, that encodes two features per qubit using the relative phase, where the datapoint $x = (x_1,...,x_N)$ can be encoded as:\n",
    "$$|x\\rangle = \\class{_big-o-times-n2}{\\bigotimes_{i=1}^{N/2}} \\cos(x_{2i-1})|0\\rangle + e^{i x_{2i}}\\sin(x_{2i-1})|1\\rangle$$\n",
    "\n",
    "Although the angle and dense angle encoding use sinuosoids and exponentials, there is nothing special about these functions, and we can easily abstract these to a general class of qubit encodings that use arbitrary functions, or define the encodings as arbitrary unitaries, implemented as parameterized quantum circuits."
   ]
  },
  {
   "cell_type": "markdown",
   "metadata": {},
   "source": [
    "### Arbitrary encoding\n",
    "\n",
    "Arbitrary encoding encodes $N$ features as rotations on $N$ parameterized gates on $n$ qubits, where $n \\leq N$. Like angle encoding, it only encodes one datapoint at a time, rather than a whole dataset. It also uses a constant depth quantum circuit and $n \\leq N$ qubits, meaning it can be run on current quantum hardware. "
   ]
  },
  {
   "cell_type": "markdown",
   "metadata": {},
   "source": [
    "For example, to use the Qiskit [`EfficientSU2`](https://qiskit.org/documentation/stubs/qiskit.circuit.library.EfficientSU2.html) circuit to encode 12 features, would only use 3 qubits:"
   ]
  },
  {
   "cell_type": "code",
   "execution_count": 4,
   "metadata": {},
   "outputs": [
    {
     "data": {
      "text/html": [
       "<pre style=\"word-wrap: normal;white-space: pre;background: #fff0;line-height: 1.1;font-family: &quot;Courier New&quot;,Courier,monospace\">     ┌──────────┐┌──────────┐ ░                 ░ ┌──────────┐ ┌──────────┐\n",
       "q_0: ┤ Ry(θ[0]) ├┤ Rz(θ[3]) ├─░───■────■────────░─┤ Ry(θ[6]) ├─┤ Rz(θ[9]) ├\n",
       "     ├──────────┤├──────────┤ ░ ┌─┴─┐  │        ░ ├──────────┤┌┴──────────┤\n",
       "q_1: ┤ Ry(θ[1]) ├┤ Rz(θ[4]) ├─░─┤ X ├──┼────■───░─┤ Ry(θ[7]) ├┤ Rz(θ[10]) ├\n",
       "     ├──────────┤├──────────┤ ░ └───┘┌─┴─┐┌─┴─┐ ░ ├──────────┤├───────────┤\n",
       "q_2: ┤ Ry(θ[2]) ├┤ Rz(θ[5]) ├─░──────┤ X ├┤ X ├─░─┤ Ry(θ[8]) ├┤ Rz(θ[11]) ├\n",
       "     └──────────┘└──────────┘ ░      └───┘└───┘ ░ └──────────┘└───────────┘</pre>"
      ],
      "text/plain": [
       "     ┌──────────┐┌──────────┐ ░                 ░ ┌──────────┐ ┌──────────┐\n",
       "q_0: ┤ Ry(θ[0]) ├┤ Rz(θ[3]) ├─░───■────■────────░─┤ Ry(θ[6]) ├─┤ Rz(θ[9]) ├\n",
       "     ├──────────┤├──────────┤ ░ ┌─┴─┐  │        ░ ├──────────┤┌┴──────────┤\n",
       "q_1: ┤ Ry(θ[1]) ├┤ Rz(θ[4]) ├─░─┤ X ├──┼────■───░─┤ Ry(θ[7]) ├┤ Rz(θ[10]) ├\n",
       "     ├──────────┤├──────────┤ ░ └───┘┌─┴─┐┌─┴─┐ ░ ├──────────┤├───────────┤\n",
       "q_2: ┤ Ry(θ[2]) ├┤ Rz(θ[5]) ├─░──────┤ X ├┤ X ├─░─┤ Ry(θ[8]) ├┤ Rz(θ[11]) ├\n",
       "     └──────────┘└──────────┘ ░      └───┘└───┘ ░ └──────────┘└───────────┘"
      ]
     },
     "execution_count": 4,
     "metadata": {},
     "output_type": "execute_result"
    }
   ],
   "source": [
    "from qiskit.circuit.library import EfficientSU2\n",
    "\n",
    "circuit = EfficientSU2(num_qubits=3, reps=1, insert_barriers=True)\n",
    "circuit.decompose().draw()"
   ]
  },
  {
   "cell_type": "markdown",
   "metadata": {},
   "source": [
    "Here we encode the datapoint $x = [0.1,0.2,0.3,0.4,0.5,0.6,0.7,0.8,0.9,1.0,1.1,1.2]$ with 12 features, using each of the parameterized gates to encode a different feature."
   ]
  },
  {
   "cell_type": "code",
   "execution_count": 5,
   "metadata": {},
   "outputs": [
    {
     "data": {
      "text/html": [
       "<pre style=\"word-wrap: normal;white-space: pre;background: #fff0;line-height: 1.1;font-family: &quot;Courier New&quot;,Courier,monospace\">     ┌─────────┐┌─────────┐ ░                 ░ ┌─────────┐┌─────────┐\n",
       "q_0: ┤ Ry(0.1) ├┤ Rz(0.4) ├─░───■────■────────░─┤ Ry(0.7) ├┤ Rz(1.0) ├\n",
       "     ├─────────┤├─────────┤ ░ ┌─┴─┐  │        ░ ├─────────┤├─────────┤\n",
       "q_1: ┤ Ry(0.2) ├┤ Rz(0.5) ├─░─┤ X ├──┼────■───░─┤ Ry(0.8) ├┤ Rz(1.1) ├\n",
       "     ├─────────┤├─────────┤ ░ └───┘┌─┴─┐┌─┴─┐ ░ ├─────────┤├─────────┤\n",
       "q_2: ┤ Ry(0.3) ├┤ Rz(0.6) ├─░──────┤ X ├┤ X ├─░─┤ Ry(0.9) ├┤ Rz(1.2) ├\n",
       "     └─────────┘└─────────┘ ░      └───┘└───┘ ░ └─────────┘└─────────┘</pre>"
      ],
      "text/plain": [
       "     ┌─────────┐┌─────────┐ ░                 ░ ┌─────────┐┌─────────┐\n",
       "q_0: ┤ Ry(0.1) ├┤ Rz(0.4) ├─░───■────■────────░─┤ Ry(0.7) ├┤ Rz(1.0) ├\n",
       "     ├─────────┤├─────────┤ ░ ┌─┴─┐  │        ░ ├─────────┤├─────────┤\n",
       "q_1: ┤ Ry(0.2) ├┤ Rz(0.5) ├─░─┤ X ├──┼────■───░─┤ Ry(0.8) ├┤ Rz(1.1) ├\n",
       "     ├─────────┤├─────────┤ ░ └───┘┌─┴─┐┌─┴─┐ ░ ├─────────┤├─────────┤\n",
       "q_2: ┤ Ry(0.3) ├┤ Rz(0.6) ├─░──────┤ X ├┤ X ├─░─┤ Ry(0.9) ├┤ Rz(1.2) ├\n",
       "     └─────────┘└─────────┘ ░      └───┘└───┘ ░ └─────────┘└─────────┘"
      ]
     },
     "execution_count": 5,
     "metadata": {},
     "output_type": "execute_result"
    }
   ],
   "source": [
    "x = [0.1, 0.2, 0.3, 0.4, 0.5, 0.6, 0.7, 0.8, 0.9, 1.0, 1.1, 1.2]\n",
    "\n",
    "encode = circuit.bind_parameters(x)\n",
    "encode.decompose().draw()"
   ]
  },
  {
   "cell_type": "markdown",
   "metadata": {},
   "source": [
    "The Qiskit [`ZZFeatureMap`](https://qiskit.org/documentation/stubs/qiskit.circuit.library.ZZFeatureMap.html) circuit with 3 qubits, only encodes a datapoint of 3 features, despite having 6 parameterized gates:"
   ]
  },
  {
   "cell_type": "code",
   "execution_count": 6,
   "metadata": {},
   "outputs": [
    {
     "data": {
      "text/html": [
       "<pre style=\"word-wrap: normal;white-space: pre;background: #fff0;line-height: 1.1;font-family: &quot;Courier New&quot;,Courier,monospace\">     ┌───┐ ░ ┌─────────────┐                                               »\n",
       "q_0: ┤ H ├─░─┤ P(2.0*x[0]) ├──■────────────────────────────────────■────■──»\n",
       "     ├───┤ ░ ├─────────────┤┌─┴─┐┌──────────────────────────────┐┌─┴─┐  │  »\n",
       "q_1: ┤ H ├─░─┤ P(2.0*x[1]) ├┤ X ├┤ P(2.0*(π - x[0])*(π - x[1])) ├┤ X ├──┼──»\n",
       "     ├───┤ ░ ├─────────────┤└───┘└──────────────────────────────┘└───┘┌─┴─┐»\n",
       "q_2: ┤ H ├─░─┤ P(2.0*x[2]) ├──────────────────────────────────────────┤ X ├»\n",
       "     └───┘ ░ └─────────────┘                                          └───┘»\n",
       "«                                               »\n",
       "«q_0: ──────────────────────────────────■───────»\n",
       "«                                       │       »\n",
       "«q_1: ──────────────────────────────────┼────■──»\n",
       "«     ┌──────────────────────────────┐┌─┴─┐┌─┴─┐»\n",
       "«q_2: ┤ P(2.0*(π - x[0])*(π - x[2])) ├┤ X ├┤ X ├»\n",
       "«     └──────────────────────────────┘└───┘└───┘»\n",
       "«                                          \n",
       "«q_0: ─────────────────────────────────────\n",
       "«                                          \n",
       "«q_1: ──────────────────────────────────■──\n",
       "«     ┌──────────────────────────────┐┌─┴─┐\n",
       "«q_2: ┤ P(2.0*(π - x[1])*(π - x[2])) ├┤ X ├\n",
       "«     └──────────────────────────────┘└───┘</pre>"
      ],
      "text/plain": [
       "     ┌───┐ ░ ┌─────────────┐                                               »\n",
       "q_0: ┤ H ├─░─┤ P(2.0*x[0]) ├──■────────────────────────────────────■────■──»\n",
       "     ├───┤ ░ ├─────────────┤┌─┴─┐┌──────────────────────────────┐┌─┴─┐  │  »\n",
       "q_1: ┤ H ├─░─┤ P(2.0*x[1]) ├┤ X ├┤ P(2.0*(π - x[0])*(π - x[1])) ├┤ X ├──┼──»\n",
       "     ├───┤ ░ ├─────────────┤└───┘└──────────────────────────────┘└───┘┌─┴─┐»\n",
       "q_2: ┤ H ├─░─┤ P(2.0*x[2]) ├──────────────────────────────────────────┤ X ├»\n",
       "     └───┘ ░ └─────────────┘                                          └───┘»\n",
       "«                                               »\n",
       "«q_0: ──────────────────────────────────■───────»\n",
       "«                                       │       »\n",
       "«q_1: ──────────────────────────────────┼────■──»\n",
       "«     ┌──────────────────────────────┐┌─┴─┐┌─┴─┐»\n",
       "«q_2: ┤ P(2.0*(π - x[0])*(π - x[2])) ├┤ X ├┤ X ├»\n",
       "«     └──────────────────────────────┘└───┘└───┘»\n",
       "«                                          \n",
       "«q_0: ─────────────────────────────────────\n",
       "«                                          \n",
       "«q_1: ──────────────────────────────────■──\n",
       "«     ┌──────────────────────────────┐┌─┴─┐\n",
       "«q_2: ┤ P(2.0*(π - x[1])*(π - x[2])) ├┤ X ├\n",
       "«     └──────────────────────────────┘└───┘"
      ]
     },
     "execution_count": 6,
     "metadata": {},
     "output_type": "execute_result"
    }
   ],
   "source": [
    "from qiskit.circuit.library import ZZFeatureMap\n",
    "\n",
    "circuit = ZZFeatureMap(3, reps=1, insert_barriers=True)\n",
    "circuit.decompose().draw()"
   ]
  },
  {
   "cell_type": "code",
   "execution_count": 7,
   "metadata": {},
   "outputs": [
    {
     "data": {
      "text/html": [
       "<pre style=\"word-wrap: normal;white-space: pre;background: #fff0;line-height: 1.1;font-family: &quot;Courier New&quot;,Courier,monospace\">     ┌───┐ ░ ┌────────┐                                      »\n",
       "q_0: ┤ H ├─░─┤ P(0.2) ├──■───────────────────────────■────■──»\n",
       "     ├───┤ ░ ├────────┤┌─┴─┐┌─────────────────────┐┌─┴─┐  │  »\n",
       "q_1: ┤ H ├─░─┤ P(0.4) ├┤ X ├┤ P(17.8942532100248) ├┤ X ├──┼──»\n",
       "     ├───┤ ░ ├────────┤└───┘└─────────────────────┘└───┘┌─┴─┐»\n",
       "q_2: ┤ H ├─░─┤ P(0.6) ├─────────────────────────────────┤ X ├»\n",
       "     └───┘ ░ └────────┘                                 └───┘»\n",
       "«                                                                  \n",
       "«q_0: ─────────────────────────■───────────────────────────────────\n",
       "«                              │                                   \n",
       "«q_1: ─────────────────────────┼────■───────────────────────────■──\n",
       "«     ┌─────────────────────┐┌─┴─┐┌─┴─┐┌─────────────────────┐┌─┴─┐\n",
       "«q_2: ┤ P(17.2859346793068) ├┤ X ├┤ X ├┤ P(16.7176161485889) ├┤ X ├\n",
       "«     └─────────────────────┘└───┘└───┘└─────────────────────┘└───┘</pre>"
      ],
      "text/plain": [
       "     ┌───┐ ░ ┌────────┐                                      »\n",
       "q_0: ┤ H ├─░─┤ P(0.2) ├──■───────────────────────────■────■──»\n",
       "     ├───┤ ░ ├────────┤┌─┴─┐┌─────────────────────┐┌─┴─┐  │  »\n",
       "q_1: ┤ H ├─░─┤ P(0.4) ├┤ X ├┤ P(17.8942532100248) ├┤ X ├──┼──»\n",
       "     ├───┤ ░ ├────────┤└───┘└─────────────────────┘└───┘┌─┴─┐»\n",
       "q_2: ┤ H ├─░─┤ P(0.6) ├─────────────────────────────────┤ X ├»\n",
       "     └───┘ ░ └────────┘                                 └───┘»\n",
       "«                                                                  \n",
       "«q_0: ─────────────────────────■───────────────────────────────────\n",
       "«                              │                                   \n",
       "«q_1: ─────────────────────────┼────■───────────────────────────■──\n",
       "«     ┌─────────────────────┐┌─┴─┐┌─┴─┐┌─────────────────────┐┌─┴─┐\n",
       "«q_2: ┤ P(17.2859346793068) ├┤ X ├┤ X ├┤ P(16.7176161485889) ├┤ X ├\n",
       "«     └─────────────────────┘└───┘└───┘└─────────────────────┘└───┘"
      ]
     },
     "execution_count": 7,
     "metadata": {},
     "output_type": "execute_result"
    }
   ],
   "source": [
    "x = [0.1, 0.2, 0.3]\n",
    "\n",
    "encode = circuit.bind_parameters(x)\n",
    "encode.decompose().draw()"
   ]
  },
  {
   "cell_type": "markdown",
   "metadata": {},
   "source": [
    "<!-- ::: q-block.exercise -->\n",
    "\n",
    "### Quick quiz\n",
    "\n",
    "<!-- ::: q-quiz(goal=\"qml-encoding-0\") -->\n",
    "\n",
    "<!-- ::: .question -->\n",
    "\n",
    "A parameterized quantum circuit has 16 parameters. What is the largest number of features it can encode?\n",
    "\n",
    "<!-- ::: -->\n",
    "\n",
    "<!-- ::: .option -->\n",
    "\n",
    "1. 4\n",
    "\n",
    "<!-- ::: -->\n",
    "\n",
    "<!-- ::: .option -->\n",
    "\n",
    "2. 8\n",
    "\n",
    "<!-- ::: -->\n",
    "\n",
    "<!-- ::: .option(correct) -->\n",
    "\n",
    "3. 16\n",
    "\n",
    "<!-- ::: -->\n",
    "\n",
    "<!-- ::: .option -->\n",
    "\n",
    "3. 32\n",
    "\n",
    "<!-- ::: -->\n",
    "\n",
    "<!-- ::: -->\n",
    "\n",
    "<!-- ::: -->"
   ]
  },
  {
   "cell_type": "markdown",
   "metadata": {
    "formulas": {
     "big-o-times": {
      "meaning": "In the same way a big sigma (Σ) represents summation over different values, this big 'otimes' means we take the Kronecker product of the formula to it's right for a set of values.",
      "say": "big o-times"
     }
    }
   },
   "source": [
    "The performance of different parameterized quantum circuits on different types of data is an active area of investigation.\n",
    "\n",
    "<div style=\"display: none\">\n",
    "$$\\cssId{big-o-times}{\\bigotimes}$$\n",
    "</div>"
   ]
  },
  {
   "cell_type": "markdown",
   "metadata": {},
   "source": [
    "## References\n",
    "\n",
    "1.  Maria Schuld and Francesco Petruccione, *Supervised Learning with Quantum Computers*, Springer 2018, [doi:10.1007/978-3-319-96424-9](https://www.springer.com/gp/book/9783319964232).\n",
    "2. Ryan LaRose and Brian Coyle, *Robust data encodings for quantum classifiers*, Physical Review A 102, 032420 (2020), [doi:10.1103/PhysRevA.102.032420](https://journals.aps.org/pra/abstract/10.1103/PhysRevA.102.032420), [arXiv:2003.01695](https://arxiv.org/abs/2003.01695)."
   ]
  },
  {
   "cell_type": "code",
   "execution_count": 8,
   "metadata": {},
   "outputs": [
    {
     "name": "stderr",
     "output_type": "stream",
     "text": [
      "/usr/local/anaconda3/lib/python3.7/site-packages/qiskit/aqua/__init__.py:86: DeprecationWarning: The package qiskit.aqua is deprecated. It was moved/refactored to qiskit-terra For more information see <https://github.com/Qiskit/qiskit-aqua/blob/main/README.md#migration-guide>\n",
      "  warn_package('aqua', 'qiskit-terra')\n"
     ]
    },
    {
     "data": {
      "text/html": [
       "<h3>Version Information</h3><table><tr><th>Qiskit Software</th><th>Version</th></tr><tr><td><code>qiskit-terra</code></td><td>0.18.3</td></tr><tr><td><code>qiskit-aer</code></td><td>0.9.0</td></tr><tr><td><code>qiskit-ignis</code></td><td>0.6.0</td></tr><tr><td><code>qiskit-ibmq-provider</code></td><td>0.16.0</td></tr><tr><td><code>qiskit-aqua</code></td><td>0.9.5</td></tr><tr><td><code>qiskit</code></td><td>0.30.1</td></tr><tr><th>System information</th></tr><tr><td>Python</td><td>3.7.7 (default, May  6 2020, 04:59:01) \n",
       "[Clang 4.0.1 (tags/RELEASE_401/final)]</td></tr><tr><td>OS</td><td>Darwin</td></tr><tr><td>CPUs</td><td>8</td></tr><tr><td>Memory (Gb)</td><td>32.0</td></tr><tr><td colspan='2'>Thu Nov 11 16:58:07 2021 GMT</td></tr></table>"
      ],
      "text/plain": [
       "<IPython.core.display.HTML object>"
      ]
     },
     "metadata": {},
     "output_type": "display_data"
    }
   ],
   "source": [
    "import qiskit.tools.jupyter\n",
    "%qiskit_version_table"
   ]
  }
 ],
 "metadata": {
  "kernelspec": {
   "display_name": "Python 3 (ipykernel)",
   "language": "python",
   "name": "python3"
  },
  "language_info": {
   "codemirror_mode": {
    "name": "ipython",
    "version": 3
   },
   "file_extension": ".py",
   "mimetype": "text/x-python",
   "name": "python",
   "nbconvert_exporter": "python",
   "pygments_lexer": "ipython3",
   "version": "3.10.4"
  }
 },
 "nbformat": 4,
 "nbformat_minor": 4
}
