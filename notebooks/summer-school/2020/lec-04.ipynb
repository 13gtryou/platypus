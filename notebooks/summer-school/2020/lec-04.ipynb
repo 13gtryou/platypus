{
 "cells": [
  {
   "cell_type": "markdown",
   "id": "348da55d",
   "metadata": {},
   "source": [
    "# Quantum Error Correction using Repetition Codes \n",
    "\n",
    "Lectures 13 – 15 introduce quantum error correction using repetition and surface codes. The lectures show the kinds of errors that can happen during a quantum computation, and methods to do quantum computation in the presence of these errors.\n",
    "\n",
    " - Download the lecture notes [here](https://github.com/qiskit-community/intro-to-quantum-computing-and-quantum-hardware/blob/master/lectures/introqcqh-lecture-notes-5.pdf?raw=true)\n",
    " - Download the lab notebook (and solutions) for the last three lectures [here](https://github.com/qiskit-community/intro-to-quantum-computing-and-quantum-hardware/blob/master/labs/introqcqh-lab-5.zip?raw=true)\n",
    "\n",
    "<div class=\"youtube-wrapper\"><iframe src=\"https://www.youtube.com/embed/ZY8PddknCos\" title=\"YouTube video player\" frameborder=\"0\" allow=\"accelerometer; autoplay; clipboard-write; encrypted-media; gyroscope; picture-in-picture\" allowfullscreen></iframe></div>\n",
    "\n",
    "<div class=\"youtube-wrapper\"><iframe src=\"https://www.youtube.com/embed/SHr3uSv9Bts\" title=\"YouTube video player\" frameborder=\"0\" allow=\"accelerometer; autoplay; clipboard-write; encrypted-media; gyroscope; picture-in-picture\" allowfullscreen></iframe></div>\n",
    "\n",
    "<div class=\"youtube-wrapper\"><iframe src=\"https://www.youtube.com/embed/96a0G4G5ZH8\" title=\"YouTube video player\" frameborder=\"0\" allow=\"accelerometer; autoplay; clipboard-write; encrypted-media; gyroscope; picture-in-picture\" allowfullscreen></iframe></div>\n",
    "\n"
   ]
  }
 ],
 "metadata": {
  "kernelspec": {
   "display_name": "Python 3",
   "language": "python",
   "name": "python3"
  },
  "language_info": {
   "codemirror_mode": {
    "name": "ipython",
    "version": 3
   },
   "file_extension": ".py",
   "mimetype": "text/x-python",
   "name": "python",
   "nbconvert_exporter": "python",
   "pygments_lexer": "ipython3",
   "version": "3.9"
  }
 },
 "nbformat": 4,
 "nbformat_minor": 5
}
