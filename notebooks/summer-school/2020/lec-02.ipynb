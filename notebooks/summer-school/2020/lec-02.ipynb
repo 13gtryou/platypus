{
 "cells": [
  {
   "cell_type": "markdown",
   "id": "7e0b7204",
   "metadata": {},
   "source": [
    "# Shor’s Algorithm I: Quantum Fourier Transform, Quantum Phase Estimation \n",
    "\n",
    "Lectures 7 – 12 are designed to teach Shor's algorithm. The first three lectures focus on building intuition for the quantum Fourier transform and quantum phase estimation, while the next three lectures focus on the implementation of Shor's algorithm using quantum circuits.\n",
    "\n",
    " - Download the lecture notes [here](https://github.com/qiskit-community/intro-to-quantum-computing-and-quantum-hardware/blob/master/lectures/introqcqh-lecture-notes-3.pdf?raw=true)\n",
    " - Download the lab notebook (and solutions) for the last three lectures [here](https://github.com/qiskit-community/intro-to-quantum-computing-and-quantum-hardware/blob/master/labs/introqcqh-lab-3.zip?raw=true)\n",
    "\n",
    "<div class=\"youtube-wrapper\"><iframe src=\"https://www.youtube.com/embed/mAHC1dWKNYE\" title=\"YouTube video player\" frameborder=\"0\" allow=\"accelerometer; autoplay; clipboard-write; encrypted-media; gyroscope; picture-in-picture\" allowfullscreen></iframe></div>\n",
    "\n",
    "<div class=\"youtube-wrapper\"><iframe src=\"https://www.youtube.com/embed/pq2jkfJlLmY\" title=\"YouTube video player\" frameborder=\"0\" allow=\"accelerometer; autoplay; clipboard-write; encrypted-media; gyroscope; picture-in-picture\" allowfullscreen></iframe></div>\n",
    "\n",
    "<div class=\"youtube-wrapper\"><iframe src=\"https://www.youtube.com/embed/5kcoaanYyZw\" title=\"YouTube video player\" frameborder=\"0\" allow=\"accelerometer; autoplay; clipboard-write; encrypted-media; gyroscope; picture-in-picture\" allowfullscreen></iframe></div>\n",
    "\n"
   ]
  }
 ],
 "metadata": {
  "kernelspec": {
   "display_name": "Python 3",
   "language": "python",
   "name": "python3"
  },
  "language_info": {
   "codemirror_mode": {
    "name": "ipython",
    "version": 3
   },
   "file_extension": ".py",
   "mimetype": "text/x-python",
   "name": "python",
   "nbconvert_exporter": "python",
   "pygments_lexer": "ipython3",
   "version": "3.9"
  }
 },
 "nbformat": 4,
 "nbformat_minor": 5
}
