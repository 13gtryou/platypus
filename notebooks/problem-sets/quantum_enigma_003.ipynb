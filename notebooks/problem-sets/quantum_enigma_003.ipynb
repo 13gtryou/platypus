{
 "cells": [
  {
   "cell_type": "markdown",
   "metadata": {},
   "source": [
    "# Enigma 003 : The Four-Square Chessboard"
   ]
  },
  {
   "cell_type": "markdown",
   "metadata": {},
   "source": [
    "![University of Sherbrooke, Institute of Quantique](images/IQ_Logo.png)\n",
    "\n",
    "## Overview\n",
    "\n",
    "Watch the following video before attempting this problem set\n",
    "\n",
    "\n",
    "<div class=\"youtube-wrapper\">\n",
    "    <iframe width=\"560\" height=\"315\" src=\"https://www.youtube.com/embed/UuVbtFXOEKQ\" title=\"YouTube video player\" frameborder=\"0\" allow=\"accelerometer; autoplay; clipboard-write; encrypted-media; gyroscope; picture-in-picture\" allowfullscreen></iframe>\n",
    "</div>"
   ]
  },
  {
   "cell_type": "markdown",
   "metadata": {},
   "source": [
    "## Problem 1\n",
    "\n",
    "Here's the code for 4 people circuit.\n",
    "\n",
    "The enigma uses an addition modulo two like this one\n",
    "\n",
    "```code\n",
    "   10\n",
    "+  01\n",
    "=  11\n",
    "```\n",
    "\n",
    "Such addition has the interesting characteristic that the numbers can be interchanged to any order like this\n",
    "\n",
    "```code\n",
    "   11\n",
    "+  01\n",
    "=  10\n",
    "```\n",
    "\n",
    "Or\n",
    "\n",
    "```code\n",
    "   11\n",
    "+  10\n",
    "=  01\n",
    "```\n",
    "\n",
    "Meaning that adding any two of them gives the third one as an answer (this is true for any numbers). Playing with modulo two additions also have other interesting characteristics. In the enigma, adding the first number to the second is done by applying a `CNOT` between $q_4$ and $q_6$ (and $q_5$ and $q_7$). "
   ]
  },
  {
   "cell_type": "markdown",
   "metadata": {},
   "source": [
    "<!-- ::: q-block.exercise -->\n",
    "\n",
    "### Quick quiz\n",
    "\n",
    "<!-- ::: q-quiz(goal=\"enigma-003-quiz-1\") -->\n",
    "\n",
    "<!-- ::: .question -->\n",
    "\n",
    "What is the value on $q_6$ after such an operation?\n",
    "\n",
    "<!-- ::: -->\n",
    "\n",
    "<!-- ::: .option(correct) -->\n",
    "\n",
    "1. $q_6$ now has the answer to the modulo two addition between $q_4$ and $q_6$.\n",
    "\n",
    "<!-- ::: -->\n",
    "\n",
    "<!-- ::: .option -->\n",
    "\n",
    "2. An extra qubit would be needed to have the answer to the modulo two addition between $q_4$ and $q_6$.\n",
    "\n",
    "<!-- ::: -->\n",
    "\n",
    "<!-- ::: .option -->\n",
    "\n",
    "3. No addition has been performed between $q_4$ and $q_6$.\n",
    "\n",
    "<!-- ::: -->\n",
    "\n",
    "<!-- ::: .option -->\n",
    "\n",
    "4. The `CNOT` does not permit to perform modulo two additions.\n",
    "\n",
    "<!-- ::: -->\n",
    "\n",
    "<!-- ::: -->\n",
    "\n",
    "<!-- ::: -->"
   ]
  },
  {
   "cell_type": "markdown",
   "metadata": {},
   "source": [
    "## Problem 2\n",
    "\n",
    "Can you write the circuit for a 4 by 4 square chess set until you calculate the position of the piece to turn?\n",
    "\n",
    "Check your answer by clicking the `Grade` button.\n",
    "\n",
    "\n",
    "<!-- ::: q-block.reminder -->\n",
    "\n",
    "### Hints\n",
    "\n",
    "<details>\n",
    "    <summary>Hint 1</summary>\n",
    "    Start by drawing a 4 by 4 chess board and number each square from 0 to 15 in decimal and binary numbers starting with the top row.\n",
    "</details>\n",
    "\n",
    "<details>\n",
    "    <summary>Hint 2</summary>\n",
    "    The trick is now to add (modulo two) all the squares that end with a 1 and to proceed the same way with all squares that have a 1 on their second bit counting from right to left and so on using four extra squares.\n",
    "</details>\n",
    "\n",
    "<details>\n",
    "    <summary>Hint 3</summary>\n",
    "    Provide the drawing of Hint 2 with the arrows for the counting\n",
    "</details>\n",
    "<!-- ::: -->"
   ]
  },
  {
   "cell_type": "code",
   "execution_count": null,
   "metadata": {
    "goals": [
     {
      "id": "enigma-003-quiz-2"
     }
    ],
    "grader_answer": "problem_qc",
    "grader_id": "quantum_enigmas/enigma_003_problem_2"
   },
   "outputs": [],
   "source": [
    "from qiskit import QuantumCircuit, ClassicalRegister, QuantumRegister\n",
    "import matplotlib\n",
    "\n",
    "nb_coins = 16\n",
    "\n",
    "#qubits 0 to 15 are the 16 squares\n",
    "#qubits 16 to 19 is where the key is hidden\n",
    "#qubits 20 to 23 is where the focus first lands\n",
    "#qubits 24 to 27 is where the focus lands at the end which is the key location\n",
    "problem_qc = QuantumCircuit(nb_coins+12)\n",
    "\n",
    "# Start your work here.\n",
    "# We've provided the circuit that is shown above\n",
    "# Your circuit MUST be named problem_qc\n",
    "\n",
    "\n",
    "\n",
    "problem_qc.draw(output='mpl')"
   ]
  },
  {
   "cell_type": "markdown",
   "metadata": {},
   "source": [
    "## Problem 3\n",
    "\n",
    "Complete the circuit to allow Alice to turn the right coin"
   ]
  },
  {
   "cell_type": "code",
   "execution_count": null,
   "metadata": {
    "goals": [
     {
      "id": "enigma-003-quiz-3"
     }
    ],
    "grader_answer": "problem_qc",
    "grader_id": "quantum_enigmas/enigma_003_problem_3"
   },
   "outputs": [],
   "source": [
    "from qiskit import QuantumCircuit, ClassicalRegister, QuantumRegister\n",
    "import matplotlib\n",
    "from qiskit.circuit.library import MCXGate\n",
    "\n",
    "#allowing for multi-controlled x gates\n",
    "gate = MCXGate(4)\n",
    "\n",
    "nb_coins = 16\n",
    "\n",
    "#qubits 0 to 15 are the 16 squares\n",
    "#qubits 16 to 19 is where the key is hidden\n",
    "#qubits 20 to 23 is where the focus first lands\n",
    "#qubits 24 to 27 is where the focus lands at the end which is the key location\n",
    "problem_qc = QuantumCircuit(nb_coins+12)\n",
    "\n",
    "# Start your work here.\n",
    "# We've provided the circuit that is shown above\n",
    "# Your circuit MUST be named problem_qc\n",
    "\n",
    "\n",
    "problem_qc.draw(output='mpl')"
   ]
  }
 ],
 "metadata": {
  "kernelspec": {
   "display_name": "Python 3",
   "language": "python",
   "name": "python3"
  },
  "language_info": {
   "codemirror_mode": {
    "name": "ipython",
    "version": 3
   },
   "file_extension": ".py",
   "mimetype": "text/x-python",
   "name": "python",
   "nbconvert_exporter": "python",
   "pygments_lexer": "ipython3",
   "version": "3.9"
  }
 },
 "nbformat": 4,
 "nbformat_minor": 4
}
