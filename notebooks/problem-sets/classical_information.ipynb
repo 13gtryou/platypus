{
 "cells": [
  {
   "cell_type": "markdown",
   "metadata": {},
   "source": [
    "# Classical Information"
   ]
  },
  {
   "cell_type": "markdown",
   "metadata": {},
   "source": [
    "## Problem 1\n",
    "\n",
    "Which of the following vectors represents a valid state for a classical system? When deciding, consider the two defining properties of a probability vector:\n",
    "\n",
    "1. Is the amplitude for each (\"classical state\") nonnegative?\n",
    "2. Is the sum of the amplitudes for each event equal to one?"
   ]
  },
  {
   "cell_type": "markdown",
   "metadata": {},
   "source": [
    "<!-- ::: q-block.exercise -->\n",
    "\n",
    "### Problem 1a\n",
    "\n",
    "<!-- ::: q-quiz(goal=\"classical-info-1a\") -->\n",
    "\n",
    "<!-- ::: .question -->\n",
    "\n",
    "$$\\begin{pmatrix}\n",
    "    \\frac{1}{3} & \\frac{1}{6} & \\frac{1}{2}\n",
    "\\end{pmatrix}^{\\!T}$$\n",
    "\n",
    "<!-- ::: -->\n",
    "\n",
    "<!-- ::: .option(correct) -->\n",
    "\n",
    "1. Valid \n",
    "\n",
    "<!-- ::: -->\n",
    "\n",
    "<!-- ::: .option -->\n",
    "\n",
    "2. Invalid\n",
    "\n",
    "<!-- ::: -->\n",
    "\n",
    "<!-- ::: -->"
   ]
  },
  {
   "cell_type": "markdown",
   "metadata": {},
   "source": [
    "<!-- ::: q-block.reminder -->\n",
    "\n",
    "### Hints\n",
    "\n",
    "<details>\n",
    "    <summary>Hint 1</summary>\n",
    "    Are all probability amplitude in the vector nonnegative?\n",
    "</details>\n",
    "\n",
    "<details>\n",
    "    <summary>Hint 2</summary>\n",
    "    Do all probability amplitude sum up to 1?\n",
    "</details>\n",
    "\n",
    "<!-- ::: -->\n"
   ]
  },
  {
   "cell_type": "markdown",
   "metadata": {},
   "source": [
    "## Problem 2\n",
    "\n",
    "Sometimes a quantum circuit can be simplified. One way of achieving this is by cancelling some quantum gates. Could you simplify the following circuit?"
   ]
  },
  {
   "cell_type": "code",
   "execution_count": null,
   "metadata": {
    "goals": [
     {
      "id": "classical-info-2"
     }
    ],
    "grader_answer": "qc",
    "grader_id": "quantum_enigmas/problem1"
   },
   "outputs": [],
   "source": [
    "from qiskit import QuantumCircuit, Aer, transpile\n",
    "from qiskit.visualization import plot_histogram\n",
    "\n",
    "# Start your work here.\n",
    "# We've provided the circuit that is shown above\n",
    "# Your circuit MUST be named qc\n",
    "# Remove all barriers before submitting for grading\n",
    "\n",
    "qc = QuantumCircuit(3)\n",
    "\n",
    "qc.h(0)\n",
    "qc.h(2)\n",
    "qc.cx(0, 1)\n",
    "qc.barrier(0, 1, 2)\n",
    "qc.cx(2, 1)\n",
    "qc.x(2)\n",
    "qc.cx(2, 0)\n",
    "qc.x(2)\n",
    "qc.barrier(0, 1, 2)\n",
    "qc.swap(0, 1)\n",
    "qc.x(1)\n",
    "qc.cx(2, 1)\n",
    "qc.x(0)\n",
    "qc.x(2)\n",
    "qc.cx(2, 0)\n",
    "qc.x(2)\n",
    "\n",
    "# Execute the circuit and draw the histogram\n",
    "\n",
    "measured_qc = qc.measure_all(inplace=False)\n",
    "backend = Aer.get_backend('qasm_simulator') # the device to run on\n",
    "result = backend.run(transpile(measured_qc, backend), shots=1024).result()\n",
    "counts  = result.get_counts(measured_qc)\n",
    "plot_histogram(counts)"
   ]
  }
 ],
 "metadata": {
  "kernelspec": {
   "display_name": "Python 3",
   "language": "python",
   "name": "python3"
  },
  "language_info": {
   "codemirror_mode": {
    "name": "ipython",
    "version": 3
   },
   "file_extension": ".py",
   "mimetype": "text/x-python",
   "name": "python",
   "nbconvert_exporter": "python",
   "pygments_lexer": "ipython3",
   "version": "3.9"
  }
 },
 "nbformat": 4,
 "nbformat_minor": 4
}
