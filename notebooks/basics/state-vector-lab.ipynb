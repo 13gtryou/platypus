{
 "cells": [
  {
   "cell_type": "markdown",
   "id": "5931fbf3",
   "metadata": {},
   "source": [
    "# Lab: State vectors\n",
    "\n",
    "In this unit we used Qiskit's built in class, `Statevector`, to representing quantum states. In this page, we'll recreate a simpler version of this class ourselves. Coding operations of the `Statevector` class will require you to fully understand those operations.\n",
    "\n",
    "In the cell below, we create a bare bones `Statevector`. In this simple implementation, we'll store the amplitude of each basis state (i.e. our column vector) in a `numpy.array`. We've also defined two methods: `.draw()`, and `.probabilities()`. We've completed the `.draw()` method for you, but you'll need to fill in the `.probabilities()` method yourself. The two cells after the class definition show an example of these methods in use.\n",
    "\n",
    "<!-- ::: q-block.exercise -->\n",
    "\n",
    "### Exercise 1\n",
    "\n",
    "Complete the `.probabilities()` method in the cell below. Once you've completed the method, press 'grade' to check your answer. (NOTE: At the moment you'll need to run the cell at the bottom of the page to load the grader functions. Before this goes live we'll move the grader functions to the grader package so this is no longer necessary).\n",
    "\n",
    "<!-- ::: -->"
   ]
  },
  {
   "cell_type": "code",
   "execution_count": null,
   "id": "a1ec54e3",
   "metadata": {
    "goals": [
     {
      "id": "multiple-systems-lab-0"
     }
    ],
    "grader_function": "grade_ex1(MyStatevector)",
    "grader_import": "pass",
    "scrolled": true
   },
   "outputs": [],
   "source": [
    "from numpy import sqrt, abs\n",
    "class MyStatevector:\n",
    "    \"\"\"This class represents quantum state vectors\"\"\"\n",
    "    def __init__(self, amplitudes):\n",
    "        \"\"\"Set up state vector.\n",
    "        Args:\n",
    "            amplitudes (list): A list of amplitudes\n",
    "        \"\"\"\n",
    "        self.data = amplitudes\n",
    "\n",
    "    def draw(self):\n",
    "        \"\"\"Print the state vector's amplitudes\"\"\"\n",
    "        print(self.data)\n",
    "\n",
    "    def probabilities(self):\n",
    "        \"\"\"Get probability of measuring each basis state.\n",
    "        Returns:\n",
    "            (list) Probability of measuring each basis state\n",
    "        \"\"\"\n",
    "        probabilities = []\n",
    "\n",
    "        # Your code here\n",
    "\n",
    "        return probabilities"
   ]
  },
  {
   "cell_type": "code",
   "execution_count": null,
   "id": "16a82ae7",
   "metadata": {
    "scrolled": true
   },
   "outputs": [],
   "source": [
    "sv = MyStatevector([0, 0, 0, 1])\n",
    "sv.draw()  # Should print [0, 0, 0, 1]"
   ]
  },
  {
   "cell_type": "code",
   "execution_count": null,
   "id": "2b2f6522",
   "metadata": {
    "scrolled": true
   },
   "outputs": [],
   "source": [
    "sv = MyStatevector([.5, .5, 0, 1/sqrt(2)])\n",
    "sv.probabilities()  # should return ~[.25, .25, 0, .5]"
   ]
  },
  {
   "cell_type": "markdown",
   "id": "7181cc20",
   "metadata": {},
   "source": [
    "In the code cell below, we extend the `MyStatevector` class to include a `.tensor()` method. This method accepts another `MyStatevector` as an argument, and returns a new `MyStatevector` that is the `.tensor()` product of itself and the other statevector.\n",
    "\n",
    "<!-- ::: q-block.reminder -->\n",
    "\n",
    "### Exercise solution\n",
    "\n",
    "<details>\n",
    "    <summary>Completing the <code>probabilities</code> method</summary>\n",
    "    Include the line:\n",
    "\n",
    "    pre\n",
    "      |    probabilities = [abs(amp)**2 for amp in self.data]\n",
    "\n",
    "in the <code>probabilities</code> method. To get the probability of measuring a state, we square the magnitude of that state's amplitude. This line of code iterates through <code>self.data</code> and makes a new list containing the magnitude (<code>abs</code>) squared of each amplitude.\n",
    "</details>\n",
    "\n",
    "<!-- ::: -->\n",
    "\n",
    "<!-- ::: q-block.exercise -->\n",
    "\n",
    "### Exercise 2\n",
    "\n",
    "Complete the `.tensor()` method in the code cell below.\n",
    "\n",
    "*Hint: You'll need to iterate through `self.data` and `other.data`*\n",
    "\n",
    "<!-- ::: -->"
   ]
  },
  {
   "cell_type": "code",
   "execution_count": null,
   "id": "af530059",
   "metadata": {
    "goals": [
     {
      "id": "multiple-systems-lab-1"
     }
    ],
    "grader_function": "grade_ex2(MyStatevector)",
    "grader_import": "pass",
    "scrolled": true
   },
   "outputs": [],
   "source": [
    "class MyStatevector(MyStatevector):\n",
    "    def tensor(self, other):\n",
    "        \"\"\"Return new MyStatevector, which is tensor product\n",
    "        of `self` (LHS) and `other` (RHS)\"\"\"\n",
    "        new_amplitudes = []\n",
    "        # Your code here\n",
    "        new_statevector = MyStatevector(new_amplitudes)\n",
    "        return new_statevector"
   ]
  },
  {
   "cell_type": "code",
   "execution_count": null,
   "id": "bf4436d8",
   "metadata": {
    "scrolled": true
   },
   "outputs": [],
   "source": [
    "# Example\n",
    "sv1 = MyStatevector([0, 1])\n",
    "sv2 = MyStatevector([1/sqrt(2), -1/sqrt(2)])\n",
    "sv1.tensor(sv2).draw()  # should print ~[0, 0, 0.707, -0.707]"
   ]
  },
  {
   "cell_type": "markdown",
   "id": "1f71507b",
   "metadata": {},
   "source": [
    "<!-- ::: q-block.reminder -->\n",
    "\n",
    "### Exercise solution\n",
    "\n",
    "<details>\n",
    "    <summary>Completing the <code>tensor</code> method</summary>\n",
    "    The following code sets up `new_amplitudes` such that returning `Statevector(new_amplitude)` is correct output.\n",
    "\n",
    "    pre\n",
    "      |         new_amplitudes = []\n",
    "      |         for amp1 in self.data:\n",
    "      |             for amp2 in other.data:\n",
    "      |                 new_amplitudes.append(amp1 * amp2)\n",
    "</details>\n",
    "\n",
    "<!-- ::: -->"
   ]
  },
  {
   "cell_type": "markdown",
   "id": "bc51dce1",
   "metadata": {},
   "source": [
    "The following code defines simple arithmetic operations for the Statevector class. This allows us to add two Statevector objects together, and multiply / divide Statevector objects by scalars."
   ]
  },
  {
   "cell_type": "code",
   "execution_count": null,
   "id": "804b1616",
   "metadata": {
    "scrolled": true
   },
   "outputs": [],
   "source": [
    "class MyStatevector(MyStatevector):\n",
    "    def __add__(self, other):\n",
    "        \"\"\"Addition: Return new MyStatevector, which is sum of `self` (LHS)\n",
    "        and `other` (RHS).\"\"\"\n",
    "        new_amplitudes = []\n",
    "        for i in range(len(self.data)):\n",
    "            new_amplitudes.append(\n",
    "                self.data[i] + other.data[i]\n",
    "            )\n",
    "        new_statevector = MyStatevector(new_amplitudes)\n",
    "        return new_statevector\n",
    "\n",
    "    def __sub__(self, other):\n",
    "        \"\"\"Subtraction: Return new MyStatevector, which is `self` (LHS)\n",
    "        subtracted by `other` (RHS).\"\"\"\n",
    "        new_amplitudes = []\n",
    "        for i in range(len(self.data)):\n",
    "            new_amplitudes.append(\n",
    "                self.data[i] - other.data[i]\n",
    "            )\n",
    "        new_statevector = MyStatevector(new_amplitudes)\n",
    "        return new_statevector\n",
    "\n",
    "    def __mul__(self, scalar):\n",
    "        \"\"\"Left multiplication: Define behaviour for\n",
    "        `MyStatevector()*scalar`.\"\"\"\n",
    "        new_amplitudes = [scalar*amp for amp in self.data]\n",
    "        return MyStatevector(new_amplitudes)\n",
    "\n",
    "    def __rmul__(self, scalar):\n",
    "        \"\"\"Right multiplication: Define behaviour for `scalar*MyStatevector()`.\n",
    "        This is the same as `__mul__` as scalar multiplication commutes\"\"\"\n",
    "        return self.__mul__(scalar)\n",
    "\n",
    "    def __truediv__(self, scalar):\n",
    "        \"\"\"Division: Define behaviour for `MyStatevector()/scalar`.\"\"\"\n",
    "        return self.__mul__(1/scalar)"
   ]
  },
  {
   "cell_type": "markdown",
   "id": "cd65f3f9",
   "metadata": {},
   "source": [
    "The code cell below expresses $|00\\rangle$ as $\\frac{1}{\\sqrt{2}}(|\\phi^+\\rangle + |\\phi^-\\rangle)$.\n",
    "\n",
    "<!-- ::: q-block.exercise -->\n",
    "\n",
    "### Code exercise\n",
    "\n",
    "Try to express other states, such as $|01\\rangle$ and $|{+}{+}\\rangle$, as linear combinations of Bell states. As a harder exercise, can you find an algorithm that takes any `Statevector` and finds a combination of Bell states that produces it?\n",
    "\n",
    "<!-- ::: -->"
   ]
  },
  {
   "cell_type": "code",
   "execution_count": null,
   "id": "f8b034f3",
   "metadata": {
    "scrolled": true
   },
   "outputs": [],
   "source": [
    "phi_plus  = MyStatevector([1/sqrt(2), 0,          0,         1/sqrt(2)])\n",
    "phi_minus = MyStatevector([1/sqrt(2), 0,          0,        -1/sqrt(2)])\n",
    "psi_plus  = MyStatevector([ 0,        1/sqrt(2),  1/sqrt(2), 0])\n",
    "psi_minus = MyStatevector([ 0,        1/sqrt(2), -1/sqrt(2), 0])\n",
    "\n",
    "# Create |00> state vector\n",
    "sv = (phi_plus + phi_minus)/sqrt(2)\n",
    "sv.draw()  # should output ~[1, 0, 0, 0]"
   ]
  },
  {
   "cell_type": "markdown",
   "id": "23c781ba",
   "metadata": {},
   "source": [
    "<!-- ::: q-block.reminder -->\n",
    "\n",
    "### Exercise solution\n",
    "\n",
    "<details>\n",
    "    <summary>Algorithm to find Bell state coefficients</summary>\n",
    "First we write each computational basis state as a linear combination of Bell bases:\n",
    "\n",
    "    pre\n",
    "      |# Bell basis key:  [phi+,       phi-,       psi+,       psi-     ]\n",
    "      |sv00 = Statevector([1/sqrt(2),  1/sqrt(2),  0,          0        ])\n",
    "      |sv01 = Statevector([0,          0,          1/sqrt(2),  1/sqrt(2)])\n",
    "      |sv10 = Statevector([0,          0,          1/sqrt(2), -1/sqrt(2)])\n",
    "      |sv11 = Statevector([1/sqrt(2), -1/sqrt(2), 0,           0        ])\n",
    "\n",
    "In the code above, we use the <code>Statevector</code> class to represent each computational basis state, but using the Bell basis. You can view each amplitude in our state vector as the amplitude of the system being in that Bell state. E.g.: $|00\\rangle = \\tfrac{1}{\\sqrt{2}}|\\phi^+\\rangle + \\tfrac{1}{\\sqrt{2}}|\\phi^-\\rangle$, so its amplitudes are $[\\tfrac{1}{\\sqrt{2}}, \\tfrac{1}{\\sqrt{2}}, 0, 0]$. Next, we create a mapping that converts a computational basis state to its corresponding Bell basis state vector.\n",
    "\n",
    "    pre\n",
    "      |# Map: computational basis state => Bell basis states\n",
    "      |comp_to_bell = [sv00, sv01, sv10, sv11]\n",
    "\n",
    "With this in place, we can sum the Bell-basis <code>Statevectors</code> for each computational basis state, weighted by that state's amplitude. The result is our input <code>Statevector</code>, but written in the Bell basis.\n",
    "\n",
    "    pre\n",
    "      |def get_bell_coefficients(state_vector):\n",
    "      |    \"\"\"Takes a `Statevector` and returns coefficients that,\n",
    "      |    when multiplied by |phi+>, |phi->, |psi+>, and |psi->\n",
    "      |    respectively, equals that state vector.\"\"\"\n",
    "      |    bell_coefficients = Statevector([0, 0, 0, 0])\n",
    "      |    for index, amp in enumerate(state_vector):\n",
    "      |        bell_coefficients += amp * comp_to_bell[index]\n",
    "      |    return bell_coefficients.data\n",
    "\n",
    "For example:\n",
    "    \n",
    "    pre\n",
    "      |get_bell_coefficients([0, 0, 1, 0])\n",
    "      |# Should return: ~[0, 0, 0.707, -0.707]\n",
    "\n",
    "</details>\n",
    "\n",
    "<!-- ::: -->"
   ]
  },
  {
   "cell_type": "markdown",
   "id": "4079dbdb",
   "metadata": {},
   "source": [
    "## Grader functions"
   ]
  },
  {
   "cell_type": "code",
   "execution_count": null,
   "id": "4884ec55",
   "metadata": {
    "scrolled": true
   },
   "outputs": [],
   "source": [
    "# This is the grading code. Eventually we'll hide this in the grader\n",
    "# package, but for now you'll need to run this before using any of the\n",
    "# grading cells\n",
    "\n",
    "import qiskit\n",
    "import numpy as np\n",
    "\n",
    "class TestStatevectorProbs:\n",
    "    \"\"\"Tests the Statevector.probabilities() method\"\"\"\n",
    "    test_cases = [[1, 0],\n",
    "                  [0.5, 0.5, 0.5, 0.5],\n",
    "                  [0, -1],\n",
    "                  [1j, 0],\n",
    "                  [0.5j, 0.5, -0.5j, 0.5]\n",
    "                 ]\n",
    "\n",
    "    def test(obj, test_case):\n",
    "        \"\"\"Object behaviour to compare\"\"\"\n",
    "        return obj(test_case).probabilities()\n",
    "\n",
    "    def compare(result, expected):\n",
    "        \"\"\"Return True if `result` and `expected` are sufficiently\n",
    "        similar\n",
    "        \"\"\"\n",
    "        return np.allclose(result, expected)\n",
    "\n",
    "    def description(obj, test_case):\n",
    "        \"\"\"Code to reproduce this test (for feedback to the submitter)\n",
    "        \"\"\"\n",
    "        return f\"{obj.__name__}({test_case}).probabilities()\"\n",
    "\n",
    "class TestStatevectorTensor:\n",
    "    \"\"\"Tests the Statevector.tensor() method\"\"\"\n",
    "    test_cases = [([0, 1], [1, 0]),\n",
    "                  ([np.sqrt(0.7), np.sqrt(0.3)], [1j, 1])\n",
    "                 ]\n",
    "\n",
    "    def test(obj, test_case):\n",
    "        return obj(test_case[0]).tensor(obj(test_case[1])).data\n",
    "\n",
    "    def compare(result, expected):\n",
    "        return np.allclose(result, expected)\n",
    "\n",
    "    def description(obj, test_case):\n",
    "        return (f\"{obj.__name__}({test_case[0]})\"\n",
    "                f\".tensor({obj.__name__}({test_case[1]})).data\")\n",
    "\n",
    "def test_object(Submission, Model, test_class):\n",
    "    \"\"\"Run tests comparing submission object to a model object.\n",
    "    E.g.: Student's home-rolled `MyStatevector` vs\n",
    "    `qiskit.quantum_info.Statevector`\n",
    "    \"\"\"\n",
    "    success = True\n",
    "    for case in test_class.test_cases:\n",
    "        try:\n",
    "            result, expected = (\n",
    "                test_class.test(obj, case)\n",
    "                for obj in [Submission, Model]\n",
    "            )\n",
    "        except Exception as err:\n",
    "            print(\"Looks like something went wrong while grading your\"\n",
    "                  \" submission.\\nSee the error below:\")\n",
    "            raise err\n",
    "            \n",
    "        try:\n",
    "            match = test_class.compare(result, expected)\n",
    "        except ValueError:\n",
    "            match = False\n",
    "        if not match:\n",
    "            success = False\n",
    "            print(\"Test case failed:\\n\"\n",
    "                 f\">>> {test_class.description(Submission, case)}\\n\"\n",
    "                 f\"Your code returned: {result}\\n\"\n",
    "                 f\"Expected: {expected}\\n\")\n",
    "\n",
    "    if success:\n",
    "        print(\"Congratulations 🎉! Your code is correct.\")\n",
    "    else:\n",
    "        print(\"Looks like your code didn't behave correctly :(\\n\"\n",
    "              \"Above, you can see the tests we tried and their expected \"\n",
    "              \"results. Please adjust your code and try again.\")\n",
    "    return success\n",
    "\n",
    "def grade_ex1(obj):\n",
    "    test_object(obj, qiskit.quantum_info.Statevector, TestStatevectorProbs)\n",
    "\n",
    "def grade_ex2(obj):\n",
    "    test_object(obj, qiskit.quantum_info.Statevector, TestStatevectorTensor)"
   ]
  }
 ],
 "metadata": {
  "kernelspec": {
   "display_name": "Python 3",
   "language": "python",
   "name": "python3"
  },
  "language_info": {
   "codemirror_mode": {
    "name": "ipython",
    "version": 3
   },
   "file_extension": ".py",
   "mimetype": "text/x-python",
   "name": "python",
   "nbconvert_exporter": "python",
   "pygments_lexer": "ipython3",
   "version": "3.9"
  }
 },
 "nbformat": 4,
 "nbformat_minor": 5
}
