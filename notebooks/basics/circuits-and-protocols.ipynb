{
 "cells": [
  {
   "cell_type": "markdown",
   "id": "e12f8395",
   "metadata": {},
   "source": [
    "# Quantum circuits and protocols\n",
    "\n",
    "Lesson contents (order TBD):\n",
    " - Quantum circuits and networks\n",
    " - Mathematical concepts to be covered:\n",
    "   - Inner products\n",
    "   - Gram-Schmidt process (e.g., completing a unitary matrix)\n",
    "   - Projections and projective measurements, implementing by unitary operations plus ancillary qubits\n",
    " - Important limitations:\n",
    "   - Cannot perfectly discriminate non-orthogonal states\n",
    "   - No-cloning theorem\n",
    "   - Irrelevance of global phase\n",
    " - Three fundamental examples: teleportation, superdense coding, and the CHSH game"
   ]
  }
 ],
 "metadata": {
  "kernelspec": {
   "display_name": "Python 3 (ipykernel)",
   "language": "python",
   "name": "python3"
  },
  "language_info": {
   "codemirror_mode": {
    "name": "ipython",
    "version": 3
   },
   "file_extension": ".py",
   "mimetype": "text/x-python",
   "name": "python",
   "nbconvert_exporter": "python",
   "pygments_lexer": "ipython3",
   "version": "3.10.4"
  }
 },
 "nbformat": 4,
 "nbformat_minor": 5
}
