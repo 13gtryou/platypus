{
  "cells": [
    {
      "cell_type": "markdown",
      "metadata": {
        "tags": [
          "remove_cell"
        ]
      },
      "source": [
        "# Guia de configuração para trabalhar com o Qiskit Textbook"
      ]
    },
    {
      "cell_type": "markdown",
      "metadata": {
      },
      "source": [
        "Este é um guia completo para configurar seu computador pessoal para trabalhar com o Qiskit Textbook. Isso irá ajudá-lo a reproduzir os resultados como você os vê no site do livro. O Qiskit Textbook é escrito em [notebooks Jupyter](https://jupyter.org/install). Os notebooks e [o site](https://qiskit.org/textbook/preface.html) são as únicas mídias em que o livro  é totalmente compatível."
      ]
    },
    {
      "cell_type": "markdown",
      "metadata": {
      },
      "source": [
        "## Instalando o pacote qiskit_textbook\n",
        "\n",
        "The Qiskit Textbook provides some tools and widgets specific to the Textbook. This is not part of Qiskit and is available through the `qiskit_textbook` package. The quickest way to install this with [Pip](http://pypi.org/project/pip/) and [Git](http://git-scm.com/) is through the command:\n",
        "\n",
        "```code\n",
        "pip install git+https://github.com/qiskit-community/qiskit-textbook.git#subdirectory=qiskit-textbook-src\n",
        "```\n",
        "\n",
        "Alternatively, you can download the folder [qiskit-textbook-src](https://github.com/qiskit-community/qiskit-textbook) from the Github and run:\n",
        "\n",
        "```code\n",
        "pip install ./qiskit-textbook-src\n",
        "```\n",
        "\n",
        "a partir do diretório que contém esta pasta.\n"
      ]
    },
    {
      "cell_type": "markdown",
      "metadata": {
      },
      "source": [
        "## Passos para reproduzir os resultados conforme pré-renderizados no qiskit textbook (Opcional)"
      ]
    },
    {
      "cell_type": "markdown",
      "metadata": {
      },
      "source": [
        "### 1. Configurando o MatPlotLib como padrão de impressão\n",
        "\n",
        "The default backend for <code>QuantumCircuit.draw()</code> or <code>qiskit.visualization.circuit_drawer()</code> is the text backend. However, depending on your local environment you may want to change these defaults to something better suited for your use case. This is done with the user config file. By default the user config file should be located in <code>~/.qiskit/</code> and is the <code>settings.conf</code> file.\n",
        "\n",
        "Qiskit Textbook uses default circuit drawer as MatPlotLib. To reproduce visualizations as given in qiskit textbook create a <code>settings.conf</code> file (usually found in <code>~/.qiskit/</code>) with contents:"
      ]
    },
    {
      "cell_type": "markdown",
      "metadata": {
      },
      "source": [
        "```code\n",
        "[default]\n",
        "circuit_drawer = mpl\n",
        "```"
      ]
    },
    {
      "cell_type": "markdown",
      "metadata": {
        "id": "gl_bmwCpXSXnV"
      },
      "source": [
        "### 2. Setting up default image type to svg\n",
        "\n",
        "Optionally, you can add the following line of code to the <code>ipython_kernel_config.py</code> file (usually found in <code>~/.ipython/profile_default/</code>) to set the default image format from PNG to the more scaleable SVG format:"
      ]
    },
    {
      "cell_type": "markdown",
      "metadata": {
      },
      "source": [
        "```code\n",
        "c.InlineBackend.figure_format = 'svg'\n",
        "```"
      ]
    },
    {
      "cell_type": "markdown",
      "metadata": {
      },
      "source": [
        "### 3. Instalando o interpretador LaTeX\n",
        "\n",
        "Te get a rendering similar to the Qiskit Textbook, optionally install the pylatexenc library. You can do this with [Pip](http://pypi.org/project/pip/) and [Git](http://git-scm.com/) through the command :\n",
        "\n",
        "<code>pip install pylatexenc</code>"
      ]
    },
    {
      "cell_type": "markdown",
      "metadata": {
      },
      "source": [
        "### 4. Sincronizando com as versões do Qiskit usadas no Textbook\n",
        "\n",
        "You will find a code snippet at the end of the most tutorials which will contain the information on which versions of qiskit packages are used in the tutorial. If you find inconsistency in syntax and/or outputs, try to use the same version.\n",
        "\n",
        "To check the version installed in your computer, run the following in Python shell or Jupyter Notebook:"
      ]
    },
    {
      "cell_type": "code",
      "execution_count": 1,
      "metadata": {
      },
      "outputs": [
        {
          "data": {
            "text/html": [
              "<h3>Version Information</h3><table><tr><th>Qiskit Software</th><th>Version</th></tr><tr><td><code>qiskit-terra</code></td><td>0.20.0</td></tr><tr><td><code>qiskit-aer</code></td><td>0.9.1</td></tr><tr><td><code>qiskit-ignis</code></td><td>0.7.0</td></tr><tr><td><code>qiskit-ibmq-provider</code></td><td>0.18.3</td></tr><tr><td><code>qiskit-aqua</code></td><td>0.9.5</td></tr><tr><td><code>qiskit</code></td><td>0.36.0</td></tr><tr><td><code>qiskit-nature</code></td><td>0.3.0</td></tr><tr><td><code>qiskit-finance</code></td><td>0.2.1</td></tr><tr><td><code>qiskit-optimization</code></td><td>0.2.3</td></tr><tr><td><code>qiskit-machine-learning</code></td><td>0.2.1</td></tr><tr><th>System information</th></tr><tr><td>Python version</td><td>3.9.10</td></tr><tr><td>Python compiler</td><td>Clang 13.0.0 (clang-1300.0.29.3)</td></tr><tr><td>Python build</td><td>main, Jan 15 2022 11:48:00</td></tr><tr><td>OS</td><td>Darwin</td></tr><tr><td>CPUs</td><td>8</td></tr><tr><td>Memory (Gb)</td><td>32.0</td></tr><tr><td colspan='2'>Fri Apr 29 09:23:34 2022 BST</td></tr></table>"
            ],
            "text/plain": [
              "<IPython.core.display.HTML object>"
            ]
          },
          "metadata": {
          },
          "output_type": "display_data"
        }
      ],
      "source": [
        "import qiskit.tools.jupyter\n",
        "%qiskit_version_table"
      ]
    }
  ],
  "metadata": {
    "kernelspec": {
      "display_name": "Python 3",
      "language": "python",
      "name": "python3"
    },
    "language_info": {
      "codemirror_mode": {
        "name": "ipython",
        "version": 3
      },
      "file_extension": ".py",
      "mimetype": "text/x-python",
      "name": "python",
      "nbconvert_exporter": "python",
      "pygments_lexer": "ipython3",
      "version": "3.9"
    }
  },
  "nbformat": 4,
  "nbformat_minor": 2
}
