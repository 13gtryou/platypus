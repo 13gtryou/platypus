{
  "cells": [
    {
      "cell_type": "markdown",
      "metadata": {
      },
      "source": [
        "# プロジェクト"
      ]
    },
    {
      "cell_type": "markdown",
      "metadata": {
        "gloss": {
          "git": {
            "text": "Git is a program you can use to track changes to computer files. Git tracks the entire state of a folder (known as a Git repository).",
            "title": "Git"
          },
          "github": {
            "text": "Github is a website you can use to host your project. Similar to video / image sharing websites, but aimed at software developers. As well as hosting software, Github also makes it easy to display your project and collaborate with others.",
            "title": "GitHub"
          },
          "slack": {
            "text": "Slack is a messaging app.",
            "title": "Slack"
          }
        }
      },
      "source": [
        "## おめでとうございます！\n",
        "\n",
        "![トロフィー](images/project/trophy.png)\n",
        "\n",
        "おめでとうございます。あなたは、このコースの授業パートを終了しました。あなたは以下を含む多くのことを学びました。\n",
        "\n",
        "- 測定および異なるアルゴリズムの比較\n",
        "- 計算をビットおよびゲートに分解する方法\n",
        "- 量子干渉とは何か、およびそれがもたらす効果\n",
        "- 量子もつれとは何か、およびそれが量子コンピューターのシミュレーションをいかに難しくしているか\n",
        "- 量子コンピューターを利用した探索アルゴリズムの改善方法\n",
        "\n",
        "## ガイド付きプロジェクトを完成させる\n",
        "\n",
        "量子コンピューティングについて楽しく学んでいただけたでしょうか？そのような方は、ぜひプロジェクトに挑戦してください。プロジェクトでは、あなたが面白いと思う分野を選び、それを調査してください。プロジェクトの最終的な形は、調査内容を説明するブログ記事でも、Qiskit自体の改良でも、何でもかまいません。\n",
        "\n",
        "### ステップ1: コミュニティとつながる\n",
        "\n",
        "If you haven’t joined already, the Qiskit [Slack](gloss:slack) workspace is a great place to ask questions and get support. The developers of Qiskit and this online textbook hang out there, as well as plenty of students and enthusiasts. You can join via [this link](https://ibm.co/joinqiskitslack), and introduce yourself in the [`#textbook-projects`](https://qiskit.slack.com/archives/C028AGU6KDX) channel.\n",
        "\n",
        "### ステップ2: GitHubの利用を開始する\n",
        "\n",
        "[GitHub](gloss:github)を使うことで、以下のことが可能になります。\n",
        "\n",
        "- 自分が書いたコードを表示する。\n",
        "- [GitHub pages](https://pages.github.com/)を使って、あなた自身のウェブページを作成する（例: ブログやオンラインデモ）。\n",
        "- [Qiskit](https://github.com/Qiskit/qiskit-terra)をフォークし、issueの作業を開始する。\n",
        "\n",
        "[Git](gloss:git)とGitHubは素晴らしいツールですが、かなりの数の専門用語もあります。これらの用語に出会ったときには、ツールチップを表示するようにします。\n",
        "\n",
        "GitHubのクイックスタートガイドは[こちら](https://docs.github.com/en/get-started/quickstart)に従うとよいでしょう。"
      ]
    },
    {
      "cell_type": "markdown",
      "metadata": {
      },
      "source": [
        "### ステップ3: プロジェクトを決定する\n",
        "\n",
        "あなたのプロジェクトは何でも構いません。あなたのアイデアを[`#textbook-projects`](https://qiskit.slack.com/archives/C028AGU6KDX) Slackチャンネルに投稿して、メンターからアドバイスをもらったり、一緒にコラボレーションする仲間を探したりすることができます。\n",
        "\n",
        "以下は、あなたの想像力を刺激するいくつかのアイデアです。項目の各セットは、簡単なものから難しいものへと大まかに分類されています。これらのアイデアの一つを使っても、アレンジしても、全く違うことをしても構いません。\n",
        "\n",
        "<!-- ::: q-block.tabs -->\n",
        "\n",
        "## プロジェクトのアイデア\n",
        "\n",
        "<!-- ::: tab -->\n",
        "\n",
        "### 執筆ベース\n",
        "\n",
        "もしあなたが文章を書くのが好きなら\n",
        "\n",
        "- Write a blog post explaining what you’ve learnt and how the experience was. Use this blog to document your journey, through quantum computing or any other areas of interest.\n",
        "- Write a blog post explaining the Hardy paradox to a specific target audience, e.g. “someone who hates maths”, or “someone who loves puzzles”.\n",
        "- Tackle an open issue on the Qiskit Textbook GitHub repo, or suggest a change for something you think could be improved.\n",
        "- 量子コンピューターのアプリケーション案について調べてみる。どのような優位性があるのか？また、その優位性に到達するためには、量子コンピューターにどのような性能が必要なのだろうか？大胆な主張と疑似科学に注意すること。その結果をブログで発表してみる。\n",
        "\n",
        "<!-- ::: tab -->\n",
        "\n",
        "### コードベース\n",
        "\n",
        "もしあなたがコードを書くのが好きなら\n",
        "\n",
        "- Create a program that builds an oracle for a given string (e.g. given `01101`, will return a `QuantumCircuit` that inverts the phase of the state $|01101\\rangle$ and leaves all other states unchanged.\n",
        "- Tackle an open issue in the Qiskit Terra repo.\n",
        "- 問題からオラクル回路を構築するプログラムを作成する（前のページで`PhaseOracle`クラスが行っているようなもの）。問題の大きさに応じて回路のサイズがどのように大きくなるかを評価してみる。\n",
        "- [量子ゲーム](https://github.com/qiskit-community/Qisge)を作ってみる。\n",
        "\n",
        "<!-- ::: tab -->\n",
        "\n",
        "### より理論的に\n",
        "\n",
        "もしあなたが数学的な側面が好きなら\n",
        "\n",
        "- 複数の解がある場合に、グローバーのアルゴリズムは何回オラクルに問い合わせる必要があるか計算してみる。その結果をブログで紹介する。\n",
        "- Write an introduction to “maths for quantum computing”. Research the maths needed to read other quantum computing textbooks and build a guide for new learners.\n",
        "- シェーニングのアルゴリズムとグローバーのアルゴリズムをどのように組み合わせるかを検討する。そのための回路はどのようなものだろうか？潜在的な問題点はないか？\n",
        "\n",
        "<!-- ::: tab -->\n",
        "\n",
        "### 何か別のもの\n",
        "\n",
        "もしあなたがもっと軽いプロジェクトが好きなら\n",
        "\n",
        "- 量子コンピューティングについての歌を作る。SoundcloudやYouTubeに投稿してみる。\n",
        "- このコースで出会った興味深い概念を表現した作品を作る。それを説明する短いブログ記事を書く。\n",
        "- Qiskitと[MatPlotLib](https://matplotlib.org/)（または[Bokeh](https://docs.bokeh.org/en/latest/index.html)など） を使って、視覚的に面白いものを作ってみる。それを発表し説明する短いブログ記事を書いてみる。\n",
        "\n",
        "<!-- ::: -->\n",
        "\n",
        "<!-- ::: -->"
      ]
    },
    {
      "cell_type": "markdown",
      "metadata": {
      },
      "source": [
        "### ステップ4: 楽しむ\n",
        "\n",
        "目標に向かって作業を開始します。もしプロジェクトが難しすぎると感じたり、行き詰まったり、単に飽きてしまったら、[`#textbook-projects`](https://qiskit.slack.com/archives/C028AGU6KDX)チャンネルで助けを求めてください。メンターが正しい方向を示してくれたり、プロジェクトの目標を調整する手助けをしてくれたりします。\n",
        "\n",
        "### ステップ5: 作品を共有する\n",
        "\n",
        "After you’ve put in the time and effort, share your work with others on the [`#textbook-projects`](https://qiskit.slack.com/archives/C028AGU6KDX) channel. If you maintain your GitHub profile and GitHub pages web page, you can use this to evidence your knowledge and experience to others (e.g. in applications or interviews)."
      ]
    }
  ],
  "metadata": {
    "kernelspec": {
      "display_name": "Python 3",
      "language": "python",
      "name": "python3"
    },
    "language_info": {
      "codemirror_mode": {
        "name": "ipython",
        "version": 3
      },
      "file_extension": ".py",
      "mimetype": "text/x-python",
      "name": "python",
      "nbconvert_exporter": "python",
      "pygments_lexer": "ipython3",
      "version": "3.9"
    }
  },
  "nbformat": 4,
  "nbformat_minor": 4
}
