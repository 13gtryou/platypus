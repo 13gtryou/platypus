{
  "cells": [
    {
      "cell_type": "markdown",
      "id": "d88b9516",
      "metadata": {
      },
      "source": [
        "# 量子化学II：H2とLiHの基底状態の探索\n",
        "\n",
        "Lectures 22 – 27 introduce the techniques used to solve quantum chemistry problems using gate-based quantum computers, with emphasis on superconducting qubits. The first three lectures describe the structure of quantum chemistry problems and discuss methods for converting these problems into ones that can be mapped onto a gate-based quantum computer, while the next three lectures focus on extracting the best performance from the quantum hardware to solve quantum chemistry problems by implementing variational quantum eigensolvers.\n",
        "\n",
        "- \t[こちら](https://github.com/qiskit-community/intro-to-quantum-computing-and-quantum-hardware/blob/master/lectures/introqcqh-lecture-notes-9.pdf?raw=true)から講義ノートをダウンロードしてください\n",
        "- \t[こちら](https://github.com/qiskit-community/intro-to-quantum-computing-and-quantum-hardware/blob/master/labs/introqcqh-lab-9.zip?raw=true)から最後の3つの講義についての実験用のノートブック(と解答)をダウンロードしてください\n",
        "\n",
        "<div class=\"youtube-wrapper\"><iframe src=\"https://www.youtube.com/embed/p9gScAOvc5I\" title=\"YouTube video player\" frameborder=\"0\" allow=\"accelerometer; autoplay; clipboard-write; encrypted-media; gyroscope; picture-in-picture\" allowfullscreen></iframe></div>\n",
        "\n",
        "<div class=\"youtube-wrapper\"><iframe src=\"https://www.youtube.com/embed/_UW6puuGa5E\" title=\"YouTube video player\" frameborder=\"0\" allow=\"accelerometer; autoplay; clipboard-write; encrypted-media; gyroscope; picture-in-picture\" allowfullscreen></iframe></div>\n",
        "\n",
        "<div class=\"youtube-wrapper\"><iframe src=\"https://www.youtube.com/embed/o4BAOKbcd3o\" title=\"YouTube video player\" frameborder=\"0\" allow=\"accelerometer; autoplay; clipboard-write; encrypted-media; gyroscope; picture-in-picture\" allowfullscreen></iframe></div>\n"
      ]
    }
  ],
  "metadata": {
    "kernelspec": {
      "display_name": "Python 3",
      "language": "python",
      "name": "python3"
    },
    "language_info": {
      "codemirror_mode": {
        "name": "ipython",
        "version": 3
      },
      "file_extension": ".py",
      "mimetype": "text/x-python",
      "name": "python",
      "nbconvert_exporter": "python",
      "pygments_lexer": "ipython3",
      "version": "3.9"
    }
  },
  "nbformat": 4,
  "nbformat_minor": 5
}
