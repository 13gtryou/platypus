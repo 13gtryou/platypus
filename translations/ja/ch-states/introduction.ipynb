{
  "cells": [
    {
      "cell_type": "markdown",
      "metadata": {
        "tags": [
          "remove_cell"
        ]
      },
      "source": [
        "# はじめに\n"
      ]
    },
    {
      "cell_type": "markdown",
      "metadata": {
        "id": "gl_aKbLuy0bVc"
      },
      "source": [
        "If you think quantum mechanics sounds challenging, you are not alone. All of our intuitions are based on day-to-day experiences, and so are better at understanding the behavior of balls and bananas than atoms or electrons. Though quantum objects can seem random and chaotic at first, they just follow a different set of rules. Once we know what those rules are, we can use them to create new and powerful technology. Quantum computing will be the most revolutionary example of this."
      ]
    },
    {
      "cell_type": "markdown",
      "metadata": {
      },
      "source": [
        "![image1](images/atoms10.png)"
      ]
    },
    {
      "cell_type": "markdown",
      "metadata": {
        "goals": [
          {
            "id": "bitdescription"
          }
        ]
      },
      "source": [
        "To get you started on your journey towards quantum computing, let's test what you already know.\n",
        "\n",
        "### Quick Exercise\n",
        "\n",
        "Which of the following is the correct description of a *bit*?\n",
        "\n",
        "- 情報の最小単位： 0 または 1 <br>\n",
        "- 大工が使用する刃 <br>\n",
        "- 馬術用語の轡（くつわ）の馬銜（はみ） <br>"
      ]
    },
    {
      "cell_type": "markdown",
      "metadata": {
        "gloss": {
          "qubit": {
            "text": "A __qubit__ or __quantum bit__ is the basic unit of quantum information. It is a two-state quantum-mechanical system, and one of the simplest systems displaying the peculiarity of quantum mechanics.",
            "title": "Qubit"
          }
        },
        "id": "gl_lYB00no22n"
      },
      "source": [
        "Actually, they are all correct: it's a very multi-purpose word! But if you chose \"the smallest unit of information\", it shows that you are already thinking along the right lines. The idea that information can be stored and processed as a series of ```0```s and ```1```s is quite a big conceptual hurdle, but it's something most people today know without even thinking about it. Taking this as a starting point, we can start to imagine bits that obey the rules of quantum mechanics. These [quantum bits](gloss:qubit), or *qubits*, will then allow us to process information in new and different ways.\n",
        "\n",
        "We'll start diving deeper into the world of qubits. For this, we'll need some way of keeping track of what they are doing when we apply gates. The most powerful way to do this is to use the mathematical language of vectors and matrices.\n"
      ]
    },
    {
      "cell_type": "markdown",
      "metadata": {
      },
      "source": [
        "![image2](images/bloch.png)\n"
      ]
    },
    {
      "cell_type": "markdown",
      "metadata": {
      },
      "source": [
        "This chapter will be most effective for readers who are already familiar with vectors and matrices. Those who aren't familiar will likely be fine too, though it might be useful to consult our [Introduction to Linear Algebra for Quantum Computing](/course/ch-appendix/an-introduction-to-linear-algebra-for-quantum-computing) from time to time.\n",
        "\n",
        "量子コンピューティング用のPythonベースのフレームワークであるQiskitを使用するため、Pythonの基本を知ることも役立ちます。入門書が必要な場合は、[PythonおよびJupyterノートブックの概要](../ch-prerequisites/python-and-jupyter-notebooks.html)を参照してください。"
      ]
    }
  ],
  "metadata": {
    "kernelspec": {
      "display_name": "Python 3",
      "language": "python",
      "name": "python3"
    },
    "language_info": {
      "codemirror_mode": {
        "name": "ipython",
        "version": 3
      },
      "file_extension": ".py",
      "mimetype": "text/x-python",
      "name": "python",
      "nbconvert_exporter": "python",
      "pygments_lexer": "ipython3",
      "version": "3.9"
    }
  },
  "nbformat": 4,
  "nbformat_minor": 2
}
