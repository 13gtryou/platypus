{
  "cells": [
    {
      "cell_type": "markdown",
      "metadata": {
        "tags": [
          "remove_cell"
        ]
      },
      "source": [
        "# ラボ1 量子回路"
      ]
    },
    {
      "cell_type": "markdown",
      "metadata": {
      },
      "source": [
        "Prerequisite\n",
        "\n",
        "- [Qiskit basics](https://qiskit.org/documentation/tutorials/circuits/1_getting_started_with_qiskit.html)\n",
        "- [Ch.1.2 計算の原子](/course/ch-states/the-atoms-of-computation)\n",
        "\n",
        "Other relevant materials\n",
        "\n",
        "- [IBM Quantum Systemsにアクセスする](https://qiskit.org/documentation/install.html#access-ibm-quantum-systems)\n",
        "- [IBM Quantum Systemsの構成](https://quantum-computing.ibm.com/docs/manage/backends/configuration)\n",
        "- [Transpile](https://qiskit.org/documentation/apidoc/transpiler.html)\n",
        "- [IBM Quantum アカウント](https://quantum-computing.ibm.com/docs/manage/account/ibmq)\n",
        "- [Quantum Circuits](https://qiskit.org/documentation/apidoc/circuit.html) "
      ]
    },
    {
      "cell_type": "code",
      "execution_count": 4,
      "metadata": {
        "id": "gl_6yxA1QhT7X"
      },
      "outputs": [

      ],
      "source": [
        "from qiskit import *\n",
        "from qiskit.visualization import plot_histogram\n",
        "import numpy as np"
      ]
    },
    {
      "cell_type": "markdown",
      "metadata": {
      },
      "source": [
        "## パート1：量子回路における古典的な論理ゲート\n",
        "\n",
        "**Goal**\n",
        "\n",
        "NOTゲート（Qiskitではxとして表されます）、CNOTゲート（Qiskitではcxとして表されます）、およびToffoliゲート（Qiskitではccxとして表されます）を使用して、XOR、AND、NAND、およびORゲートを計算できる量子回路関数を作成します。\n",
        "\n",
        "An implementation of the `NOT` gate is provided as an example."
      ]
    },
    {
      "cell_type": "code",
      "execution_count": 2,
      "metadata": {
      },
      "outputs": [

      ],
      "source": [
        "def NOT(inp):\n",
        "    \"\"\"An NOT gate.\n",
        "    \n",
        "    Parameters:\n",
        "        inp (str): Input, encoded in qubit 0.\n",
        "        \n",
        "    Returns:\n",
        "        QuantumCircuit: Output NOT circuit.\n",
        "        str: Output value measured from qubit 0.\n",
        "    \"\"\"\n",
        "\n",
        "    qc = QuantumCircuit(1, 1) # A quantum circuit with a single qubit and a single classical bit\n",
        "    qc.reset(0)\n",
        "    \n",
        "    # We encode '0' as the qubit state |0⟩, and '1' as |1⟩\n",
        "    # Since the qubit is initially |0⟩, we don't need to do anything for an input of '0'\n",
        "    # For an input of '1', we do an x to rotate the |0⟩ to |1⟩\n",
        "    if inp=='1':\n",
        "        qc.x(0)\n",
        "        \n",
        "    # barrier between input state and gate operation \n",
        "    qc.barrier()\n",
        "    \n",
        "    # Now we've encoded the input, we can do a NOT on it using x\n",
        "    qc.x(0)\n",
        "    \n",
        "    #barrier between gate operation and measurement\n",
        "    qc.barrier()\n",
        "    \n",
        "    # Finally, we extract the |0⟩/|1⟩ output of the qubit and encode it in the bit c[0]\n",
        "    qc.measure(0,0)\n",
        "    qc.draw()\n",
        "    \n",
        "    # We'll run the program on a simulator\n",
        "    backend = Aer.get_backend('aer_simulator')\n",
        "    # Since the output will be deterministic, we can use just a single shot to get it\n",
        "    job = backend.run(qc, shots=1, memory=True)\n",
        "    output = job.result().get_memory()[0]\n",
        "    \n",
        "    return qc, output"
      ]
    },
    {
      "cell_type": "code",
      "execution_count": 3,
      "metadata": {
        "id": "gl_RqgmM0NN2n"
      },
      "outputs": [
        {
          "name": "stdout",
          "output_type": "stream",
          "text": [
            "NOT with input 0 gives output 1\n"
          ]
        },
        {
          "data": {
            "image/svg+xml": [
              "<?xml version=\"1.0\" encoding=\"UTF-8\"?><!DOCTYPE svg  PUBLIC '-//W3C//DTD SVG 1.1//EN'  'http://www.w3.org/Graphics/SVG/1.1/DTD/svg11.dtd'><svg width=\"297.02pt\" height=\"123.48pt\" version=\"1.1\" viewBox=\"0 0 297.02 123.48\" xmlns=\"http://www.w3.org/2000/svg\" xmlns:xlink=\"http://www.w3.org/1999/xlink\"><defs><style type=\"text/css\">*{stroke-linecap:butt;stroke-linejoin:round;}</style></defs><path d=\"m-0 123.48h297.02v-123.48h-297.02z\" fill=\"#ffffff\"/><path d=\"m253.91 78.672h11.817l-5.9086 8.5221z\" clip-path=\"url(#pc725eaee6b)\" fill=\"#778899\"/><path d=\"m53.471 43.561h231.8\" clip-path=\"url(#pc725eaee6b)\" fill=\"none\" stroke=\"#000000\" stroke-linecap=\"square\" stroke-width=\"2\"/><path d=\"m53.471 87.535h231.8\" clip-path=\"url(#pc725eaee6b)\" fill=\"none\" stroke=\"#778899\" stroke-linecap=\"square\" stroke-width=\"2\"/><path d=\"m53.471 90.489h231.8\" clip-path=\"url(#pc725eaee6b)\" fill=\"none\" stroke=\"#778899\" stroke-linecap=\"square\" stroke-width=\"2\"/><path d=\"m114.6 66.286h17.726v-45.451h-17.726z\" clip-path=\"url(#pc725eaee6b)\" fill=\"#bdbdbd\" opacity=\".6\"/><path d=\"m205.5 66.286h17.726v-45.451h-17.726z\" clip-path=\"url(#pc725eaee6b)\" fill=\"#bdbdbd\" opacity=\".6\"/><path d=\"m261.3 43.561v35.111\" clip-path=\"url(#pc725eaee6b)\" fill=\"none\" stroke=\"#778899\" stroke-linecap=\"square\" stroke-width=\"2\"/><path d=\"m258.34 43.561v35.111\" clip-path=\"url(#pc725eaee6b)\" fill=\"none\" stroke=\"#778899\" stroke-linecap=\"square\" stroke-width=\"2\"/><path d=\"m63.243 58.332h29.543v-29.543h-29.543z\" clip-path=\"url(#pc725eaee6b)\" stroke=\"#000000\" stroke-width=\"1.5\"/><path d=\"m154.14 58.332h29.543v-29.543h-29.543z\" clip-path=\"url(#pc725eaee6b)\" fill=\"#05bab6\" stroke=\"#05bab6\" stroke-width=\"1.5\"/><path d=\"m245.05 58.332h29.543v-29.543h-29.543z\" clip-path=\"url(#pc725eaee6b)\" stroke=\"#000000\" stroke-width=\"1.5\"/><path d=\"m270.16 47.992c0-2.7413-1.0901-5.3732-3.0285-7.3116-1.9384-1.9384-4.5702-3.0285-7.3116-3.0285s-5.3732 1.0901-7.3116 3.0285c-1.9384 1.9384-3.0285 4.5702-3.0285 7.3116\" clip-path=\"url(#pc725eaee6b)\" fill=\"none\" stroke=\"#ffffff\" stroke-width=\"2\"/><path d=\"m259.82 47.992 10.34-10.34\" clip-path=\"url(#pc725eaee6b)\" fill=\"none\" stroke=\"#ffffff\" stroke-linecap=\"square\" stroke-width=\"2\"/><path d=\"m123.47 20.835v45.451\" clip-path=\"url(#pc725eaee6b)\" fill=\"none\" stroke=\"#000000\" stroke-dasharray=\"3.7,1.6\"/><path d=\"m214.37 20.835v45.451\" clip-path=\"url(#pc725eaee6b)\" fill=\"none\" stroke=\"#000000\" stroke-dasharray=\"3.7,1.6\"/><g clip-path=\"url(#pc725eaee6b)\"><defs><path id=\"DejaVuSans-124\" d=\"m21 76.422v-100h-8.2969v100z\"/><path id=\"DejaVuSans-48\" d=\"m31.781 66.406q-7.6094 0-11.453-7.5-3.8281-7.4844-3.8281-22.531 0-14.984 3.8281-22.484 3.8438-7.5 11.453-7.5 7.6719 0 11.5 7.5 3.8438 7.5 3.8438 22.484 0 15.047-3.8438 22.531-3.8281 7.5-11.5 7.5zm0 7.8125q12.266 0 18.734-9.7031 6.4688-9.6875 6.4688-28.141 0-18.406-6.4688-28.109-6.4688-9.6875-18.734-9.6875-12.25 0-18.719 9.6875-6.4688 9.7031-6.4688 28.109 0 18.453 6.4688 28.141 6.4688 9.7031 18.719 9.7031z\"/><path id=\"DejaVuSans-10217\" d=\"m30.078 31.344-13.766-44.531h-8.2969l13.766 44.531-13.766 44.531h8.2969z\"/></defs><g transform=\"translate(69.109 47.006) scale(.13 -.13)\" fill=\"#ffffff\"><use transform=\"translate(0 .57812)\" xlink:href=\"#DejaVuSans-124\"/><use transform=\"translate(33.691 .57812)\" xlink:href=\"#DejaVuSans-48\"/><use transform=\"translate(97.314 .57812)\" xlink:href=\"#DejaVuSans-10217\"/></g></g><g clip-path=\"url(#pc725eaee6b)\"><defs><path id=\"DejaVuSans-88\" d=\"m6.2969 72.906h10.594l18.125-27.109 18.203 27.109h10.594l-23.438-35.016 25-37.891h-10.594l-20.5 31-20.656-31h-10.641l26.016 38.922z\"/></defs><g transform=\"translate(164.46 47.148) scale(.13 -.13)\"><use xlink:href=\"#DejaVuSans-88\"/></g></g><g clip-path=\"url(#pc725eaee6b)\"><g transform=\"translate(271.18 82.304) scale(.104 -.104)\"><use xlink:href=\"#DejaVuSans-48\"/></g></g><g clip-path=\"url(#pc725eaee6b)\"><defs><path id=\"DejaVuSans-113\" d=\"m14.797 27.297q0-9.9062 4.0781-15.547t11.203-5.6406 11.219 5.6406q4.1094 5.6406 4.1094 15.547t-4.1094 15.547q-4.0938 5.6406-11.219 5.6406t-11.203-5.6406-4.0781-15.547zm30.609-19.094q-2.8281-4.875-7.1562-7.25-4.3125-2.375-10.375-2.375-9.9062 0-16.141 7.9062-6.2188 7.9219-6.2188 20.812t6.2188 20.797q6.2344 7.9062 16.141 7.9062 6.0625 0 10.375-2.375 4.3281-2.3594 7.1562-7.2344v8.2969h8.9844v-75.484h-8.9844z\"/></defs><g transform=\"translate(34.065 48.045) scale(.1625 -.1625)\"><use xlink:href=\"#DejaVuSans-113\"/></g></g><g clip-path=\"url(#pc725eaee6b)\"><defs><path id=\"DejaVuSans-99\" d=\"m48.781 52.594v-8.4062q-3.8125 2.1094-7.6406 3.1562t-7.7344 1.0469q-8.75 0-13.594-5.5469-4.8281-5.5312-4.8281-15.547t4.8281-15.562q4.8438-5.5312 13.594-5.5312 3.9062 0 7.7344 1.0469t7.6406 3.1562v-8.3125q-3.7656-1.75-7.7969-2.625-4.0156-0.89062-8.5625-0.89062-12.359 0-19.641 7.7656-7.2656 7.7656-7.2656 20.953 0 13.375 7.3438 21.031 7.3594 7.6719 20.156 7.6719 4.1406 0 8.0938-0.85938 3.9531-0.84375 7.6719-2.5469z\"/></defs><g transform=\"translate(35.446 93.496) scale(.1625 -.1625)\"><use xlink:href=\"#DejaVuSans-99\"/></g></g><defs><clipPath id=\"pc725eaee6b\"><rect x=\"7.2\" y=\"7.2\" width=\"282.62\" height=\"109.08\"/></clipPath></defs></svg>"
            ],
            "text/plain": [
              "<Figure size 374.326x144.48 with 1 Axes>"
            ]
          },
          "metadata": {
          },
          "output_type": "display_data"
        },
        {
          "name": "stdout",
          "output_type": "stream",
          "text": [
            "\n",
            "\n",
            "NOT with input 1 gives output 0\n"
          ]
        },
        {
          "data": {
            "image/svg+xml": [
              "<?xml version=\"1.0\" encoding=\"UTF-8\"?><!DOCTYPE svg  PUBLIC '-//W3C//DTD SVG 1.1//EN'  'http://www.w3.org/Graphics/SVG/1.1/DTD/svg11.dtd'><svg width=\"342.47pt\" height=\"123.48pt\" version=\"1.1\" viewBox=\"0 0 342.47 123.48\" xmlns=\"http://www.w3.org/2000/svg\" xmlns:xlink=\"http://www.w3.org/1999/xlink\"><defs><style type=\"text/css\">*{stroke-linecap:butt;stroke-linejoin:round;}</style></defs><path d=\"m0 123.48h342.47v-123.48h-342.47z\" fill=\"#ffffff\"/><path d=\"m299.36 78.672h11.817l-5.9086 8.5221z\" clip-path=\"url(#p28fb26c6af)\" fill=\"#778899\"/><path d=\"m53.471 43.561h277.25\" clip-path=\"url(#p28fb26c6af)\" fill=\"none\" stroke=\"#000000\" stroke-linecap=\"square\" stroke-width=\"2\"/><path d=\"m53.471 87.535h277.25\" clip-path=\"url(#p28fb26c6af)\" fill=\"none\" stroke=\"#778899\" stroke-linecap=\"square\" stroke-width=\"2\"/><path d=\"m53.471 90.489h277.25\" clip-path=\"url(#p28fb26c6af)\" fill=\"none\" stroke=\"#778899\" stroke-linecap=\"square\" stroke-width=\"2\"/><path d=\"m160.05 66.286h17.726v-45.451h-17.726z\" clip-path=\"url(#p28fb26c6af)\" fill=\"#bdbdbd\" opacity=\".6\"/><path d=\"m250.96 66.286h17.726v-45.451h-17.726z\" clip-path=\"url(#p28fb26c6af)\" fill=\"#bdbdbd\" opacity=\".6\"/><path d=\"m306.75 43.561v35.111\" clip-path=\"url(#p28fb26c6af)\" fill=\"none\" stroke=\"#778899\" stroke-linecap=\"square\" stroke-width=\"2\"/><path d=\"m303.79 43.561v35.111\" clip-path=\"url(#p28fb26c6af)\" fill=\"none\" stroke=\"#778899\" stroke-linecap=\"square\" stroke-width=\"2\"/><path d=\"m63.243 58.332h29.543v-29.543h-29.543z\" clip-path=\"url(#p28fb26c6af)\" stroke=\"#000000\" stroke-width=\"1.5\"/><path d=\"m108.69 58.332h29.543v-29.543h-29.543z\" clip-path=\"url(#p28fb26c6af)\" fill=\"#05bab6\" stroke=\"#05bab6\" stroke-width=\"1.5\"/><path d=\"m199.6 58.332h29.543v-29.543h-29.543z\" clip-path=\"url(#p28fb26c6af)\" fill=\"#05bab6\" stroke=\"#05bab6\" stroke-width=\"1.5\"/><path d=\"m290.5 58.332h29.543v-29.543h-29.543z\" clip-path=\"url(#p28fb26c6af)\" stroke=\"#000000\" stroke-width=\"1.5\"/><path d=\"m315.61 47.992c0-2.7413-1.0901-5.3732-3.0285-7.3116-1.9384-1.9384-4.5702-3.0285-7.3116-3.0285s-5.3732 1.0901-7.3116 3.0285c-1.9384 1.9384-3.0285 4.5702-3.0285 7.3116\" clip-path=\"url(#p28fb26c6af)\" fill=\"none\" stroke=\"#ffffff\" stroke-width=\"2\"/><path d=\"m305.27 47.992 10.34-10.34\" clip-path=\"url(#p28fb26c6af)\" fill=\"none\" stroke=\"#ffffff\" stroke-linecap=\"square\" stroke-width=\"2\"/><path d=\"m168.92 20.835v45.451\" clip-path=\"url(#p28fb26c6af)\" fill=\"none\" stroke=\"#000000\" stroke-dasharray=\"3.7,1.6\"/><path d=\"m259.82 20.835v45.451\" clip-path=\"url(#p28fb26c6af)\" fill=\"none\" stroke=\"#000000\" stroke-dasharray=\"3.7,1.6\"/><g clip-path=\"url(#p28fb26c6af)\"><defs><path id=\"DejaVuSans-124\" d=\"m21 76.422v-100h-8.2969v100z\"/><path id=\"DejaVuSans-48\" d=\"m31.781 66.406q-7.6094 0-11.453-7.5-3.8281-7.4844-3.8281-22.531 0-14.984 3.8281-22.484 3.8438-7.5 11.453-7.5 7.6719 0 11.5 7.5 3.8438 7.5 3.8438 22.484 0 15.047-3.8438 22.531-3.8281 7.5-11.5 7.5zm0 7.8125q12.266 0 18.734-9.7031 6.4688-9.6875 6.4688-28.141 0-18.406-6.4688-28.109-6.4688-9.6875-18.734-9.6875-12.25 0-18.719 9.6875-6.4688 9.7031-6.4688 28.109 0 18.453 6.4688 28.141 6.4688 9.7031 18.719 9.7031z\"/><path id=\"DejaVuSans-10217\" d=\"m30.078 31.344-13.766-44.531h-8.2969l13.766 44.531-13.766 44.531h8.2969z\"/></defs><g transform=\"translate(69.109 47.006) scale(.13 -.13)\" fill=\"#ffffff\"><use transform=\"translate(0 .57812)\" xlink:href=\"#DejaVuSans-124\"/><use transform=\"translate(33.691 .57812)\" xlink:href=\"#DejaVuSans-48\"/><use transform=\"translate(97.314 .57812)\" xlink:href=\"#DejaVuSans-10217\"/></g></g><g clip-path=\"url(#p28fb26c6af)\"><defs><path id=\"DejaVuSans-88\" d=\"m6.2969 72.906h10.594l18.125-27.109 18.203 27.109h10.594l-23.438-35.016 25-37.891h-10.594l-20.5 31-20.656-31h-10.641l26.016 38.922z\"/></defs><g transform=\"translate(119.01 47.148) scale(.13 -.13)\"><use xlink:href=\"#DejaVuSans-88\"/></g></g><g clip-path=\"url(#p28fb26c6af)\"><g transform=\"translate(209.91 47.148) scale(.13 -.13)\"><use xlink:href=\"#DejaVuSans-88\"/></g></g><g clip-path=\"url(#p28fb26c6af)\"><g transform=\"translate(316.63 82.304) scale(.104 -.104)\"><use xlink:href=\"#DejaVuSans-48\"/></g></g><g clip-path=\"url(#p28fb26c6af)\"><defs><path id=\"DejaVuSans-113\" d=\"m14.797 27.297q0-9.9062 4.0781-15.547t11.203-5.6406 11.219 5.6406q4.1094 5.6406 4.1094 15.547t-4.1094 15.547q-4.0938 5.6406-11.219 5.6406t-11.203-5.6406-4.0781-15.547zm30.609-19.094q-2.8281-4.875-7.1562-7.25-4.3125-2.375-10.375-2.375-9.9062 0-16.141 7.9062-6.2188 7.9219-6.2188 20.812t6.2188 20.797q6.2344 7.9062 16.141 7.9062 6.0625 0 10.375-2.375 4.3281-2.3594 7.1562-7.2344v8.2969h8.9844v-75.484h-8.9844z\"/></defs><g transform=\"translate(34.065 48.045) scale(.1625 -.1625)\"><use xlink:href=\"#DejaVuSans-113\"/></g></g><g clip-path=\"url(#p28fb26c6af)\"><defs><path id=\"DejaVuSans-99\" d=\"m48.781 52.594v-8.4062q-3.8125 2.1094-7.6406 3.1562t-7.7344 1.0469q-8.75 0-13.594-5.5469-4.8281-5.5312-4.8281-15.547t4.8281-15.562q4.8438-5.5312 13.594-5.5312 3.9062 0 7.7344 1.0469t7.6406 3.1562v-8.3125q-3.7656-1.75-7.7969-2.625-4.0156-0.89062-8.5625-0.89062-12.359 0-19.641 7.7656-7.2656 7.7656-7.2656 20.953 0 13.375 7.3438 21.031 7.3594 7.6719 20.156 7.6719 4.1406 0 8.0938-0.85938 3.9531-0.84375 7.6719-2.5469z\"/></defs><g transform=\"translate(35.446 93.496) scale(.1625 -.1625)\"><use xlink:href=\"#DejaVuSans-99\"/></g></g><defs><clipPath id=\"p28fb26c6af\"><rect x=\"7.2\" y=\"7.2\" width=\"328.07\" height=\"109.08\"/></clipPath></defs></svg>"
            ],
            "text/plain": [
              "<Figure size 434.526x144.48 with 1 Axes>"
            ]
          },
          "metadata": {
          },
          "output_type": "display_data"
        },
        {
          "name": "stdout",
          "output_type": "stream",
          "text": [
            "\n",
            "\n"
          ]
        }
      ],
      "source": [
        "## Test the function\n",
        "for inp in ['0', '1']:\n",
        "    qc, out = NOT(inp)\n",
        "    print('NOT with input',inp,'gives output',out)\n",
        "    display(qc.draw())\n",
        "    print('\\n')"
      ]
    },
    {
      "cell_type": "markdown",
      "metadata": {
      },
      "source": [
        "### 📓 XORゲート\n",
        "\n",
        "Takes two binary strings as input and gives one as output.\n",
        "\n",
        "入力が等しい場合、出力は<code>'0'</code>であり、そうでない場合、出力は<code>'1'</code>です。"
      ]
    },
    {
      "cell_type": "code",
      "execution_count": 2,
      "metadata": {
      },
      "outputs": [

      ],
      "source": [
        "def XOR(inp1,inp2):\n",
        "    \"\"\"An XOR gate.\n",
        "    \n",
        "    Parameters:\n",
        "        inpt1 (str): Input 1, encoded in qubit 0.\n",
        "        inpt2 (str): Input 2, encoded in qubit 1.\n",
        "        \n",
        "    Returns:\n",
        "        QuantumCircuit: Output XOR circuit.\n",
        "        str: Output value measured from qubit 1.\n",
        "    \"\"\"\n",
        "  \n",
        "    qc = QuantumCircuit(2, 1) \n",
        "    qc.reset(range(2))\n",
        "    \n",
        "    if inp1=='1':\n",
        "        qc.x(0)\n",
        "    if inp2=='1':\n",
        "        qc.x(1)\n",
        "    \n",
        "    # barrier between input state and gate operation \n",
        "    qc.barrier()\n",
        "    \n",
        "    # this is where your program for quantum XOR gate goes\n",
        "    \n",
        "    \n",
        "    \n",
        "    \n",
        "    \n",
        "    \n",
        "    \n",
        "    \n",
        "    # barrier between input state and gate operation \n",
        "    qc.barrier()\n",
        "    \n",
        "    qc.measure(1,0) # output from qubit 1 is measured\n",
        "  \n",
        "    #We'll run the program on a simulator\n",
        "    backend = Aer.get_backend('aer_simulator')\n",
        "    #Since the output will be deterministic, we can use just a single shot to get it\n",
        "    job = backend.run(qc, shots=1, memory=True)\n",
        "    output = job.result().get_memory()[0]\n",
        "  \n",
        "    return qc, output"
      ]
    },
    {
      "cell_type": "code",
      "execution_count": 1,
      "metadata": {
        "id": "gl_gj6rzN1S4p"
      },
      "outputs": [

      ],
      "source": [
        "## Test the function\n",
        "for inp1 in ['0', '1']:\n",
        "    for inp2 in ['0', '1']:\n",
        "        qc, output = XOR(inp1, inp2)\n",
        "        print('XOR with inputs',inp1,inp2,'gives output',output)\n",
        "        display(qc.draw())\n",
        "        print('\\n')"
      ]
    },
    {
      "cell_type": "markdown",
      "metadata": {
      },
      "source": [
        "### 📓 ANDゲート\n",
        "\n",
        "Takes two binary strings as input and gives one as output.\n",
        "\n",
        "両方の入力が`'1'`の場合にのみ、出力は`'1'`になります。"
      ]
    },
    {
      "cell_type": "code",
      "execution_count": 6,
      "metadata": {
      },
      "outputs": [

      ],
      "source": [
        "def AND(inp1,inp2):\n",
        "    \"\"\"An AND gate.\n",
        "    \n",
        "    Parameters:\n",
        "        inpt1 (str): Input 1, encoded in qubit 0.\n",
        "        inpt2 (str): Input 2, encoded in qubit 1.\n",
        "        \n",
        "    Returns:\n",
        "        QuantumCircuit: Output XOR circuit.\n",
        "        str: Output value measured from qubit 2.\n",
        "    \"\"\"\n",
        "    qc = QuantumCircuit(3, 1) \n",
        "    qc.reset(range(2))\n",
        "  \n",
        "    if inp1=='1':\n",
        "        qc.x(0)\n",
        "    if inp2=='1':\n",
        "        qc.x(1)\n",
        "        \n",
        "    qc.barrier()\n",
        "\n",
        "    # this is where your program for quantum AND gate goes\n",
        "\n",
        "    \n",
        "    \n",
        "    \n",
        "    \n",
        "    \n",
        "\n",
        "    qc.barrier()\n",
        "    qc.measure(2, 0) # output from qubit 2 is measured\n",
        "  \n",
        "    # We'll run the program on a simulator\n",
        "    backend = Aer.get_backend('aer_simulator')\n",
        "    # Since the output will be deterministic, we can use just a single shot to get it\n",
        "    job = backend.run(qc, shots=1, memory=True)\n",
        "    output = job.result().get_memory()[0]\n",
        "  \n",
        "    return qc, output"
      ]
    },
    {
      "cell_type": "code",
      "execution_count": 2,
      "metadata": {
        "id": "gl_mk9SWAXXfx"
      },
      "outputs": [

      ],
      "source": [
        "## Test the function\n",
        "for inp1 in ['0', '1']:\n",
        "    for inp2 in ['0', '1']:\n",
        "        qc, output = AND(inp1, inp2)\n",
        "        print('AND with inputs',inp1,inp2,'gives output',output)\n",
        "        display(qc.draw())\n",
        "        print('\\n')"
      ]
    },
    {
      "cell_type": "markdown",
      "metadata": {
      },
      "source": [
        "### 📓 NANDゲート\n",
        "\n",
        "Takes two binary strings as input and gives one as output.\n",
        "\n",
        "両方の入力が`'1'`の場合にのみ、出力は`'0'`になります。"
      ]
    },
    {
      "cell_type": "code",
      "execution_count": 8,
      "metadata": {
      },
      "outputs": [

      ],
      "source": [
        "def NAND(inp1,inp2):\n",
        "    \"\"\"An NAND gate.\n",
        "    \n",
        "    Parameters:\n",
        "        inpt1 (str): Input 1, encoded in qubit 0.\n",
        "        inpt2 (str): Input 2, encoded in qubit 1.\n",
        "        \n",
        "    Returns:\n",
        "        QuantumCircuit: Output NAND circuit.\n",
        "        str: Output value measured from qubit 2.\n",
        "    \"\"\"\n",
        "    qc = QuantumCircuit(3, 1) \n",
        "    qc.reset(range(3))\n",
        "    \n",
        "    if inp1=='1':\n",
        "        qc.x(0)\n",
        "    if inp2=='1':\n",
        "        qc.x(1)\n",
        "    \n",
        "    qc.barrier()\n",
        "    \n",
        "    # this is where your program for quantum NAND gate goes\n",
        "\n",
        "\n",
        "    \n",
        "    \n",
        "    \n",
        "    \n",
        "    \n",
        "    qc.barrier()\n",
        "    qc.measure(2, 0) # output from qubit 2 is measured\n",
        "  \n",
        "    # We'll run the program on a simulator\n",
        "    backend = Aer.get_backend('aer_simulator')\n",
        "    # Since the output will be deterministic, we can use just a single shot to get it\n",
        "    job = backend.run(qc,shots=1,memory=True)\n",
        "    output = job.result().get_memory()[0]\n",
        "  \n",
        "    return qc, output"
      ]
    },
    {
      "cell_type": "code",
      "execution_count": 3,
      "metadata": {
        "id": "gl_FJQDSMEcRZ"
      },
      "outputs": [

      ],
      "source": [
        "## Test the function\n",
        "for inp1 in ['0', '1']:\n",
        "    for inp2 in ['0', '1']:\n",
        "        qc, output = NAND(inp1, inp2)\n",
        "        print('NAND with inputs',inp1,inp2,'gives output',output)\n",
        "        display(qc.draw())\n",
        "        print('\\n')"
      ]
    },
    {
      "cell_type": "markdown",
      "metadata": {
      },
      "source": [
        "### 📓 ORゲート\n",
        "\n",
        "Takes two binary strings as input and gives one as output.\n",
        "\n",
        "いずれかの入力が<code>'1'</code>の場合、出力は<code>'1'</code>です。"
      ]
    },
    {
      "cell_type": "code",
      "execution_count": 10,
      "metadata": {
      },
      "outputs": [

      ],
      "source": [
        "def OR(inp1,inp2):\n",
        "    \"\"\"An OR gate.\n",
        "    \n",
        "    Parameters:\n",
        "        inpt1 (str): Input 1, encoded in qubit 0.\n",
        "        inpt2 (str): Input 2, encoded in qubit 1.\n",
        "        \n",
        "    Returns:\n",
        "        QuantumCircuit: Output XOR circuit.\n",
        "        str: Output value measured from qubit 2.\n",
        "    \"\"\"\n",
        "\n",
        "    qc = QuantumCircuit(3, 1) \n",
        "    qc.reset(range(3))\n",
        "    \n",
        "    if inp1=='1':\n",
        "        qc.x(0)\n",
        "    if inp2=='1':\n",
        "        qc.x(1)\n",
        "    \n",
        "    qc.barrier()\n",
        "   \n",
        "    # this is where your program for quantum OR gate goes\n",
        "\n",
        "\n",
        "    \n",
        "    \n",
        "    \n",
        "    \n",
        "    \n",
        "    qc.barrier()\n",
        "    qc.measure(2, 0) # output from qubit 2 is measured\n",
        "  \n",
        "    # We'll run the program on a simulator\n",
        "    backend = Aer.get_backend('aer_simulator')\n",
        "    # Since the output will be deterministic, we can use just a single shot to get it\n",
        "    job = backend.run(qc,shots=1,memory=True)\n",
        "    output = job.result().get_memory()[0]\n",
        "  \n",
        "    return qc, output"
      ]
    },
    {
      "cell_type": "code",
      "execution_count": 4,
      "metadata": {
        "id": "gl_4QJsYs3IE9"
      },
      "outputs": [

      ],
      "source": [
        "## Test the function\n",
        "for inp1 in ['0', '1']:\n",
        "    for inp2 in ['0', '1']:\n",
        "        qc, output = OR(inp1, inp2)\n",
        "        print('OR with inputs',inp1,inp2,'gives output',output)\n",
        "        display(qc.draw())\n",
        "        print('\\n')"
      ]
    },
    {
      "cell_type": "markdown",
      "metadata": {
      },
      "source": [
        "## Part 2: AND gate on Quantum Computer\n",
        "\n",
        "**Goal**\n",
        "\n",
        "Execute AND gate on a real quantum system and learn how the noise properties affect the result.\n",
        "\n",
        "In Part 1 you made an `AND` gate from quantum gates, and executed it on the simulator.  Here in Part 2 you will do it again, but instead run the circuits on a real quantum computer.  When using a real quantum system, one thing you should keep in mind is that present day quantum computers are not fault tolerant; they are noisy.\n",
        "\n",
        "量子系の「ノイズ」は、起こるべきではないが、それでも起こるすべてのことの集合的な影響です。出力でのノイズの結果は、必ずしも私たちが期待するものではありません。量子回路のすべてのプロセスに関連するノイズがあります：初期状態の準備、ゲートの適用、および量子ビット測定。ゲートの場合、ノイズレベルはゲート間および量子ビット間で異なる可能性があります。 `cx`ゲートは通常、単一量子ビットのゲートよりもノイズが多くなります。\n",
        "\n",
        "Here we will use the quantum systems from the IBM Quantum Experience.  If you do not have access, you can do so [here](https://qiskit.org/documentation/install.html#access-ibm-quantum-systems).\n",
        "\n",
        "Now that you are ready to use the real quantum computer, let's begin."
      ]
    },
    {
      "cell_type": "markdown",
      "metadata": {
      },
      "source": [
        "### ステップ1. デバイスの選択"
      ]
    },
    {
      "cell_type": "markdown",
      "metadata": {
        "id": "gl_z3RrifqGYd"
      },
      "source": [
        "First load the account from the credentials saved on disk by running the following cell:"
      ]
    },
    {
      "cell_type": "code",
      "execution_count": 17,
      "metadata": {
        "tags": [
          "uses-hardware"
        ],
        "id": "gl_CDokpi7KNO"
      },
      "outputs": [

      ],
      "source": [
        "IBMQ.load_account()"
      ]
    },
    {
      "cell_type": "markdown",
      "metadata": {
        "id": "gl_0j50azxB7l"
      },
      "source": [
        "After your account is loaded, you can see the list of providers that you have access to by running the cell below. Each provider offers different systems for use. For open users, there is typically only one provider `ibm-q/open/main`:"
      ]
    },
    {
      "cell_type": "code",
      "execution_count": 16,
      "metadata": {
        "tags": [
          "uses-hardware"
        ],
        "id": "gl_q1gFdh7li5"
      },
      "outputs": [

      ],
      "source": [
        "IBMQ.providers()"
      ]
    },
    {
      "cell_type": "markdown",
      "metadata": {
      },
      "source": [
        "`get_provider`を使用してプロバイダーを取得しましょう。コマンド`provider.backends()`は、選択したプロバイダーから利用できるバックエンドのリストを表示します。"
      ]
    },
    {
      "cell_type": "code",
      "execution_count": 15,
      "metadata": {
        "tags": [
          "uses-hardware"
        ],
        "id": "gl_N8EYVAVqKM"
      },
      "outputs": [

      ],
      "source": [
        "provider = IBMQ.get_provider('ibm-q')\n",
        "provider.backends()"
      ]
    },
    {
      "cell_type": "markdown",
      "metadata": {
        "id": "gl_ETsNHU55E6"
      },
      "source": [
        "Among these options, you may pick one of the systems to run your circuits on.  All except the `ibmq_qasm_simulator` all are real quantum computers that you can use.  The differences among these systems resides in the number of qubits, their connectivity, and the system error rates.  \n",
        "\n",
        "Upon executing the following cell you will be presented with a widget that displays all of the information about your choice of the backend.  You can obtain information that you need by clicking on the tabs. For example, backend status, number of qubits and the connectivity are under `configuration` tab, where as the `Error Map` tab will reveal the latest noise information for the system. "
      ]
    },
    {
      "cell_type": "code",
      "execution_count": 9,
      "metadata": {
        "tags": [
          "uses-hardware"
        ]
      },
      "outputs": [

      ],
      "source": [
        "import qiskit.tools.jupyter\n",
        "\n",
        "backend_ex = provider.get_backend('ibmq_lima')\n",
        "backend_ex"
      ]
    },
    {
      "cell_type": "markdown",
      "metadata": {
        "id": "gl_tLCe6N3kum"
      },
      "source": [
        "For our AND gate circuit, we need a backend with three or more qubits, which is true for all the real systems except for `ibmq_armonk`.  Below is an example of how to filter backends, where we filter for number of qubits, and remove simulators:"
      ]
    },
    {
      "cell_type": "code",
      "execution_count": 8,
      "metadata": {
        "tags": [
          "uses-hardware"
        ],
        "id": "gl_8hAp7zhJnl"
      },
      "outputs": [

      ],
      "source": [
        "backends = provider.backends(filters = lambda x:x.configuration().n_qubits >= 2 and not x.configuration().simulator\n",
        "                             and x.status().operational==True)\n",
        "backends"
      ]
    },
    {
      "cell_type": "markdown",
      "metadata": {
        "id": "gl_0lPkACojfO"
      },
      "source": [
        "One convenient way to choose a system is using the `least_busy` function to get the backend with the lowest number of jobs in queue.  The downside is that the result might have relatively poor accuracy because, not surprisingly, the lowest error rate systems are the most popular."
      ]
    },
    {
      "cell_type": "code",
      "execution_count": 17,
      "metadata": {
        "tags": [
          "uses-hardware"
        ],
        "id": "gl_j6UV79I13V"
      },
      "outputs": [

      ],
      "source": [
        "from qiskit.providers.ibmq import least_busy\n",
        "backend = least_busy(provider.backends(filters=lambda x: x.configuration().n_qubits >= 2 and \n",
        "                                        not x.configuration().simulator and x.status().operational==True))\n",
        "backend"
      ]
    },
    {
      "cell_type": "markdown",
      "metadata": {
      },
      "source": [
        "Real quantum computers need to be recalibrated regularly, and the fidelity of a specific qubit or gate can change over time. Therefore, which system would produce results with less error can vary.\n",
        "\n",
        "この演習では、IBM Quantumシステムの1つである`ibmq_quito`を選択します。"
      ]
    },
    {
      "cell_type": "code",
      "execution_count": 2,
      "metadata": {
        "tags": [
          "uses-hardware"
        ]
      },
      "outputs": [

      ],
      "source": [
        "# run this cell\n",
        "backend = provider.get_backend('ibmq_quito')"
      ]
    },
    {
      "cell_type": "markdown",
      "metadata": {
      },
      "source": [
        "### ステップ2. 実際のデバイスのAND関数を定義する\n",
        "\n",
        "We now define the AND function.  We choose 8192 as the number of shots, the maximum number of shots for open IBM systems, to reduce the variance in the final result. Related information is well explained [here](https://quantum-computing.ibm.com/docs/manage/backends/configuration)."
      ]
    },
    {
      "cell_type": "markdown",
      "metadata": {
      },
      "source": [
        "#### Qiskit トランスパイラー"
      ]
    },
    {
      "cell_type": "markdown",
      "metadata": {
        "id": "gl_3wRtcmKzqs"
      },
      "source": [
        "It is important to know that when running a circuit on a real quantum computer, circuits typically need to be transpiled for the backend that you select so that the circuit contains only those gates that the quantum computer can actually perform. Primarily this involves the addition of swap gates so that two-qubit gates in the circuit map to those pairs of qubits on the device that can actually perform these gates. The following cell shows the AND gate represented as a Toffoli gate decomposed into single- and two-qubit gates, which are the only types of gate that can be run on IBM hardware."
      ]
    },
    {
      "cell_type": "code",
      "execution_count": 5,
      "metadata": {
      },
      "outputs": [
        {
          "name": "stdout",
          "output_type": "stream",
          "text": [
            "\n",
            "\n",
            "Transpiled AND gate with all the required connectivity\n"
          ]
        },
        {
          "data": {
            "text/html": [
              "<pre style=\"word-wrap: normal;white-space: pre;background: #fff0;line-height: 1.1;font-family: &quot;Courier New&quot;,Courier,monospace\">          \n",
              "q_0: ──■──\n",
              "       │  \n",
              "q_1: ──■──\n",
              "     ┌─┴─┐\n",
              "q_2: ┤ X ├\n",
              "     └───┘</pre>"
            ],
            "text/plain": [
              "          \n",
              "q_0: ──■──\n",
              "       │  \n",
              "q_1: ──■──\n",
              "     ┌─┴─┐\n",
              "q_2: ┤ X ├\n",
              "     └───┘"
            ]
          },
          "metadata": {
          },
          "output_type": "display_data"
        },
        {
          "name": "stdout",
          "output_type": "stream",
          "text": [
            "\n",
            "\n",
            "Transpiled AND gate with all the required connectivity\n"
          ]
        },
        {
          "data": {
            "text/html": [
              "<pre style=\"word-wrap: normal;white-space: pre;background: #fff0;line-height: 1.1;font-family: &quot;Courier New&quot;,Courier,monospace\">                                                       ┌───┐      \n",
              "q_0: ───────────────────■─────────────────────■────■───┤ T ├───■──\n",
              "                        │             ┌───┐   │  ┌─┴─┐┌┴───┴┐┌─┴─┐\n",
              "q_1: ───────■───────────┼─────────■───┤ T ├───┼──┤ X ├┤ TDG ├┤ X ├\n",
              "     ┌───┐┌─┴─┐┌─────┐┌─┴─┐┌───┐┌─┴─┐┌┴───┴┐┌─┴─┐├───┤└┬───┬┘└───┘\n",
              "q_2: ┤ H ├┤ X ├┤ TDG ├┤ X ├┤ T ├┤ X ├┤ TDG ├┤ X ├┤ T ├─┤ H ├──────\n",
              "     └───┘└───┘└─────┘└───┘└───┘└───┘└─────┘└───┘└───┘ └───┘      </pre>"
            ],
            "text/plain": [
              "                                                       ┌───┐      \n",
              "q_0: ───────────────────■─────────────────────■────■───┤ T ├───■──\n",
              "                        │             ┌───┐   │  ┌─┴─┐┌┴───┴┐┌─┴─┐\n",
              "q_1: ───────■───────────┼─────────■───┤ T ├───┼──┤ X ├┤ TDG ├┤ X ├\n",
              "     ┌───┐┌─┴─┐┌─────┐┌─┴─┐┌───┐┌─┴─┐┌┴───┴┐┌─┴─┐├───┤└┬───┬┘└───┘\n",
              "q_2: ┤ H ├┤ X ├┤ TDG ├┤ X ├┤ T ├┤ X ├┤ TDG ├┤ X ├┤ T ├─┤ H ├──────\n",
              "     └───┘└───┘└─────┘└───┘└───┘└───┘└─────┘└───┘└───┘ └───┘      "
            ]
          },
          "execution_count": 5,
          "metadata": {
          },
          "output_type": "execute_result"
        }
      ],
      "source": [
        "qc_and = QuantumCircuit(3)\n",
        "qc_and.ccx(0,1,2)\n",
        "print('AND gate')\n",
        "display(qc_and.draw())\n",
        "print('\\n\\nTranspiled AND gate with all the required connectivity')\n",
        "qc_and.decompose().draw()"
      ]
    },
    {
      "cell_type": "markdown",
      "metadata": {
        "id": "gl_foQ9UyxFmQ"
      },
      "source": [
        "In addition, there are often optimizations that the transpiler can perform that reduce the overall gate count, and thus total length of the input circuits.  Note that the addition of swaps to match the device topology, and optimizations for reducing the length of a circuit are at odds with each other. In what follows we will make use of `initial_layout` that allows us to pick the qubits on a device used for the computation and `optimization_level`, an argument that allows selecting from internal defaults for circuit swap mapping and optimization methods to perform.\n",
        "\n",
        "You can learn more about transpile function in depth [here](https://qiskit.org/documentation/apidoc/transpiler.html)."
      ]
    },
    {
      "cell_type": "markdown",
      "metadata": {
        "id": "gl_QZwnMJtVK4"
      },
      "source": [
        "Let's modify AND function in Part1 properly for the real system with the transpile step included."
      ]
    },
    {
      "cell_type": "code",
      "execution_count": null,
      "metadata": {
        "tags": [
          "uses-hardware"
        ],
        "id": "gl_IgIvbygXtZ"
      },
      "outputs": [

      ],
      "source": [
        "from qiskit.tools.monitor import job_monitor"
      ]
    },
    {
      "cell_type": "code",
      "execution_count": 6,
      "metadata": {
        "tags": [
          "uses-hardware"
        ]
      },
      "outputs": [

      ],
      "source": [
        "# run the cell to define AND gate for real quantum system\n",
        "\n",
        "def AND(inp1, inp2, backend, layout):\n",
        "    \n",
        "    qc = QuantumCircuit(3, 1) \n",
        "    qc.reset(range(3))\n",
        "    \n",
        "    if inp1=='1':\n",
        "        qc.x(0)\n",
        "    if inp2=='1':\n",
        "        qc.x(1)\n",
        "        \n",
        "    qc.barrier()\n",
        "    qc.ccx(0, 1, 2) \n",
        "    qc.barrier()\n",
        "    qc.measure(2, 0) \n",
        "  \n",
        "    qc_trans = transpile(qc, backend, initial_layout=layout, optimization_level=3)\n",
        "    job = backend.run(qc_trans, shots=8192)\n",
        "    print(job.job_id())\n",
        "    job_monitor(job)\n",
        "    \n",
        "    output = job.result().get_counts()\n",
        "    \n",
        "    return qc_trans, output"
      ]
    },
    {
      "cell_type": "markdown",
      "metadata": {
        "id": "gl_24c1zCBgnQ"
      },
      "source": [
        "When you submit jobs to quantum systems, `job_monitor` will start tracking where your submitted job is in the pipeline."
      ]
    },
    {
      "cell_type": "markdown",
      "metadata": {
      },
      "source": [
        "まず、下のセルを実行して、ウィジェットから`ibmq_quito`を調べます。"
      ]
    },
    {
      "cell_type": "code",
      "execution_count": null,
      "metadata": {
      },
      "outputs": [

      ],
      "source": [
        "backend"
      ]
    },
    {
      "cell_type": "markdown",
      "metadata": {
      },
      "source": [
        "📓 エラーマップを考慮して3量子ビットの初期レイアウトを決定し、それをリスト変数layout2に割り当てます。"
      ]
    },
    {
      "cell_type": "code",
      "execution_count": null,
      "metadata": {
      },
      "outputs": [

      ],
      "source": [
        "layout ="
      ]
    },
    {
      "cell_type": "markdown",
      "metadata": {
      },
      "source": [
        "📓 初期レイアウトを選択した理由を説明してください。\n",
        "\n",
        "**あなたの答え：** "
      ]
    },
    {
      "cell_type": "markdown",
      "metadata": {
      },
      "source": [
        "以下のセルを実行して、 `ibmq_quito`で`AND`ゲートを実行します。"
      ]
    },
    {
      "cell_type": "code",
      "execution_count": null,
      "metadata": {
      },
      "outputs": [

      ],
      "source": [
        "output_all = []\n",
        "qc_trans_all = []\n",
        "prob_all = []\n",
        "\n",
        "worst = 1\n",
        "best = 0\n",
        "for input1 in ['0','1']:\n",
        "    for input2 in ['0','1']:\n",
        "        qc_trans, output = AND(input1, input2, backend, layout)\n",
        "        \n",
        "        output_all.append(output)\n",
        "        qc_trans_all.append(qc_trans)\n",
        "        \n",
        "        prob = output[str(int( input1=='1' and input2=='1' ))]/8192\n",
        "        prob_all.append(prob)\n",
        "        \n",
        "        print('\\nProbability of correct answer for inputs',input1,input2)\n",
        "        print('{:.2f}'.format(prob) )\n",
        "        print('---------------------------------')\n",
        "        \n",
        "        worst = min(worst,prob)\n",
        "        best = max(best, prob)\n",
        "        \n",
        "print('')\n",
        "print('\\nThe highest of these probabilities was {:.2f}'.format(best))\n",
        "print('The lowest of these probabilities was {:.2f}'.format(worst))"
      ]
    },
    {
      "cell_type": "markdown",
      "metadata": {
      },
      "source": [
        "### ステップ3. 結果を解釈する"
      ]
    },
    {
      "cell_type": "markdown",
      "metadata": {
      },
      "source": [
        "There are several quantities that distinguish the circuits.  Chief among them is the  **circuit depth**.  Circuit depth is defined in detail [here](https://qiskit.org/documentation/apidoc/circuit.html) (See the Supplementary Information and click the Quantum Circuit Properties tab). Circuit depth is proportional to the number of gates in a circuit, and loosely corresponds to the runtime of the circuit on hardware.   Therefore, circuit depth is an easy to compute metric that can be used to estimate the fidelity of an executed circuit.\n",
        "\n",
        "2番目の重要な値は、回路内の**非ローカル**（複数量子ビット）**ゲート**の数です。 IBM Quantumシステムでは、物理的に実行できる唯一の非ローカル・ゲートはCNOTゲートです。 CNOTゲートは実行するのに最も高価なゲートであるため、これらのゲートの総数は、最終出力の精度の優れたベンチマークとしても機能することを思い出してください。"
      ]
    },
    {
      "cell_type": "markdown",
      "metadata": {
      },
      "source": [
        "#### 回路の深さと結果の精度"
      ]
    },
    {
      "cell_type": "markdown",
      "metadata": {
        "id": "gl_oKIWDAL8rs"
      },
      "source": [
        "Running the cells below will display the four transpiled AND gate circuit diagrams with the corresponding inputs that executed on `ibm_lagos` and their circuit depths with the success probability for producing correct answer."
      ]
    },
    {
      "cell_type": "code",
      "execution_count": null,
      "metadata": {
      },
      "outputs": [

      ],
      "source": [
        "print('Transpiled AND gate circuit for ibmq_vigo with input 0 0')\n",
        "print('\\nThe circuit depth : {}'.format (qc_trans_all[0].depth()))\n",
        "print('# of nonlocal gates : {}'.format (qc_trans_all[0].num_nonlocal_gates()))\n",
        "print('Probability of correct answer : {:.2f}'.format(prob_all[0]) )\n",
        "qc_trans_all[0].draw()"
      ]
    },
    {
      "cell_type": "code",
      "execution_count": null,
      "metadata": {
      },
      "outputs": [

      ],
      "source": [
        "print('Transpiled AND gate circuit for ibmq_vigo with input 0 1')\n",
        "print('\\nThe circuit depth : {}'.format (qc_trans_all[1].depth()))\n",
        "print('# of nonlocal gates : {}'.format (qc_trans_all[1].num_nonlocal_gates()))\n",
        "print('Probability of correct answer : {:.2f}'.format(prob_all[1]) )\n",
        "qc_trans_all[1].draw()"
      ]
    },
    {
      "cell_type": "code",
      "execution_count": null,
      "metadata": {
      },
      "outputs": [

      ],
      "source": [
        "print('Transpiled AND gate circuit for ibmq_vigo with input 1 0')\n",
        "print('\\nThe circuit depth : {}'.format (qc_trans_all[2].depth()))\n",
        "print('# of nonlocal gates : {}'.format (qc_trans_all[2].num_nonlocal_gates()))\n",
        "print('Probability of correct answer : {:.2f}'.format(prob_all[2]) )\n",
        "qc_trans_all[2].draw()"
      ]
    },
    {
      "cell_type": "code",
      "execution_count": null,
      "metadata": {
      },
      "outputs": [

      ],
      "source": [
        "print('Transpiled AND gate circuit for ibmq_vigo with input 1 1')\n",
        "print('\\nThe circuit depth : {}'.format (qc_trans_all[3].depth()))\n",
        "print('# of nonlocal gates : {}'.format (qc_trans_all[3].num_nonlocal_gates()))\n",
        "print('Probability of correct answer : {:.2f}'.format(prob_all[3]) )\n",
        "qc_trans_all[3].draw()"
      ]
    },
    {
      "cell_type": "markdown",
      "metadata": {
      },
      "source": [
        "📓 回路の非類似性の理由を説明してください。回路の特性と結果の精度との関係を説明してください。"
      ]
    },
    {
      "cell_type": "markdown",
      "metadata": {
      },
      "source": [
        "**あなたの答え：**"
      ]
    }
  ],
  "metadata": {
    "kernelspec": {
      "display_name": "Python 3",
      "language": "python",
      "name": "python3"
    },
    "language_info": {
      "codemirror_mode": {
        "name": "ipython",
        "version": 3
      },
      "file_extension": ".py",
      "mimetype": "text/x-python",
      "name": "python",
      "nbconvert_exporter": "python",
      "pygments_lexer": "ipython3",
      "version": "3.9"
    }
  },
  "nbformat": 4,
  "nbformat_minor": 4
}
